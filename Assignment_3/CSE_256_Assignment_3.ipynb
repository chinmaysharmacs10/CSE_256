{
 "cells": [
  {
   "cell_type": "markdown",
   "metadata": {
    "id": "SgNZTjrhcHa0"
   },
   "source": [
    "# CSE 256:  NLP UCSD, Programming Assignment 3\n",
    "## Text Decoding From GPT-2 using Beam Search (40 points)\n",
    "### <font color='blue'> Due: Wednesday, May 29, 2024 at  10pm </font>\n",
    "\n",
    "###### IMPORTANT: After copying this notebook to your Google Drive, paste a link to it below. To get a publicly-accessible link, click the *Share* button at the top right, then click \"Get shareable link\" and copy the link.\n",
    "#### <font color=\"red\">Link: paste your link here:  </font> "
   ]
  },
  {
   "cell_type": "code",
   "execution_count": 41,
   "metadata": {},
   "outputs": [],
   "source": [
    "# https://colab.research.google.com/drive/1OTKReuhXIKgDK0tRgGC8iwhGsaMJVaBg?usp=sharing"
   ]
  },
  {
   "cell_type": "markdown",
   "metadata": {},
   "source": [
    "\n",
    "---\n",
    "**Notes:**\n",
    "\n",
    "Make sure to save the notebook as you go along.\n",
    "\n",
    "Submission instructions are located at the bottom of the notebook."
   ]
  },
  {
   "cell_type": "markdown",
   "metadata": {
    "id": "d23zfO_ALKeB"
   },
   "source": [
    "# Part 0: Setup"
   ]
  },
  {
   "cell_type": "markdown",
   "metadata": {
    "id": "N25dvF4jvYoy"
   },
   "source": [
    "## Adding a hardware accelerator\n",
    "Go to the menu and add a GPU as follows:\n",
    "\n",
    "`Edit > Notebook Settings > Hardware accelerator > (GPU)`\n",
    "\n",
    "Run the following cell to confirm that the GPU is detected."
   ]
  },
  {
   "cell_type": "code",
   "execution_count": 1,
   "metadata": {
    "colab": {
     "base_uri": "https://localhost:8080/"
    },
    "id": "edOh9ooiIW1B",
    "outputId": "78954c82-4f9b-4813-8830-6b3ae91a055a"
   },
   "outputs": [
    {
     "name": "stdout",
     "output_type": "stream",
     "text": [
      "Found device: NVIDIA GeForce RTX 2080 Ti, n_gpu: 1\n"
     ]
    }
   ],
   "source": [
    "import torch\n",
    "\n",
    "# Confirm that the GPU is detected\n",
    "assert torch.cuda.is_available()\n",
    "\n",
    "# Get the GPU device name.\n",
    "device_name = torch.cuda.get_device_name()\n",
    "n_gpu = torch.cuda.device_count()\n",
    "print(f\"Found device: {device_name}, n_gpu: {n_gpu}\")"
   ]
  },
  {
   "cell_type": "markdown",
   "metadata": {
    "id": "xrvH7xx9LnMC"
   },
   "source": [
    "## Installing Hugging Face's Transformers and Additional Libraries\n",
    "We will use Hugging Face's Transformers (https://github.com/huggingface/transformers).\n",
    "\n",
    "Run the following cell to install Hugging Face's Transformers library and some other useful tools. This cell will also download data used later in the assignment."
   ]
  },
  {
   "cell_type": "code",
   "execution_count": 15,
   "metadata": {
    "id": "gtqS2e5fxpqa"
   },
   "outputs": [],
   "source": [
    "#!pip install -q transformers==4.17.0  rich[jupyter]"
   ]
  },
  {
   "cell_type": "markdown",
   "metadata": {
    "id": "sa5Q_y4huAUm"
   },
   "source": [
    "# Part 1. Beam Search\n",
    "We are going to explore decoding from a pretrained GPT-2 model using beam search. Run the below cell to set up some beam search utilities."
   ]
  },
  {
   "cell_type": "code",
   "execution_count": 36,
   "metadata": {
    "colab": {
     "base_uri": "https://localhost:8080/",
     "height": 326,
     "referenced_widgets": [
      "1debabadf28145908663408485399bb6",
      "bb2686846331408aa04b6ef330bcac31",
      "92f0f4aed9314aa88d3ed916dfb6730e",
      "80cfe1475323485298e7e96bb49b024b",
      "754930c73f3841f790879276a046b969",
      "eb69595fcea04228843066db3037aeeb",
      "84b9b902526f4de587203342f701de95",
      "aece83b907f743bb8e38dcad82a72dbf",
      "cff196d9322b4b1a8b3e7d382b4e9d7d",
      "beacc992b2dd41fea0f36ec64946715e",
      "d7fa001367864a73a1432d849a6d2c65",
      "969a96dd84234b84a4585de1f859c3d2",
      "5b3ea2d37ec245e69048df2fa324e8a1",
      "7f5a1bbabcab488586f6d5a33e340594",
      "bd879de01fb347f0a7646db2773ed99c",
      "3818a6341bd64636b8b9af0c8090bca8",
      "5a2170a332c04769b19661508dd4f2ab",
      "1b62430a77444050bd8a34a6ff113ab1",
      "93e32784913443f2949b7320ad5279e5",
      "8528959a403b460aaa7d66d3eaa9eda1",
      "7e64afb66fc1495bbc87c3a61c1a0976",
      "0f92195effe34ea88df8650aee0eb479",
      "e526367e7df54bd6804d2b16040ab5f0",
      "35c3d8ab5a494e9a8018a69be84f0f20",
      "37798771c7df4a6288e06d4105017204",
      "77677770b1544309bb1894731872ab0b",
      "27877f40c8cf48b1bb26775d723ddeff",
      "2c35d315b71c4674824da011abe2fc8c",
      "f1b4780c0d16460a8873761d3bf9b1f2",
      "046f4ce35d7047309a4659ae81e6abae",
      "f8165c1b630144bb85927ca2a3971aa6",
      "af3e570e62aa4a6ba36c4dbe2616a3c0",
      "d98835ccd6274a949b705c486b1a05a5",
      "95e04030f73a41afa1a006fdb4c2ac7f",
      "1e50ba7b632c402e896dacda1cd7bfb3",
      "05d3f036c7ba45fd9be9b6f692370d16",
      "65709e27e680456680409c1f302ab588",
      "8368989a6afa40a186c00da905c0cdc5",
      "fdbede6577734ae28c0dbb7b9302083b",
      "3a1d6b7355834ee7a3801ceae2a38b5e",
      "843fdd33ff8e4847b6012e4a64c0b31d",
      "5cfbf5124d99475685bcaf5803c602a1",
      "aa74270682044f11a52120966a3b5e72",
      "3c6ccd18a27044feb4ea479c81c33542",
      "b62e7ab801304b799340c8f214258df3",
      "2916155dc9b94f618c95b36a4aa6c514",
      "de8c35931af8486bbb48ebf7f3e76a95",
      "aa0456a8e0694bf89cf32fecec2db5ea",
      "7d3d413be5394d41956ebabc490abcd8",
      "9e187c7da5774de783285d0e9e8026f0",
      "66c927b4f3a74e988bb6d5de91f7baed",
      "ca4938b7d4e542d0a2d4f51662f933dd",
      "100170ddcca9437385dc33f7a6cbf919",
      "a03214cdcb844eaeaa639b5fc8e05dc0",
      "5e8ba43d58dd4a67a7aad2450dd0b98a"
     ]
    },
    "id": "bgUbrB6ht_ch",
    "outputId": "ad128f8a-a0b7-45f3-c27b-05b7a7d5612a"
   },
   "outputs": [],
   "source": [
    "from transformers import GPT2LMHeadModel, GPT2Tokenizer\n",
    "\n",
    "tokenizer = GPT2Tokenizer.from_pretrained(\"gpt2\")\n",
    "model = GPT2LMHeadModel.from_pretrained(\"gpt2\", pad_token_id=tokenizer.eos_token_id)\n",
    "\n",
    "# Beam Search\n",
    "\n",
    "def init_beam_search(model, input_ids, num_beams):\n",
    "    assert len(input_ids.shape) == 2\n",
    "    beam_scores = torch.zeros(num_beams, dtype=torch.float32, device=model.device)\n",
    "    beam_scores[1:] = -1e9 # Break ties in first round.\n",
    "    new_input_ids = input_ids.repeat_interleave(num_beams, dim=0).to(model.device)\n",
    "    return new_input_ids, beam_scores\n",
    "\n",
    "\n",
    "def run_beam_search_(model, tokenizer, input_text, num_beams=5, num_decode_steps=10, score_processors=[], to_cpu=True):\n",
    "\n",
    "    input_ids = tokenizer.encode(input_text, return_tensors='pt')\n",
    "\n",
    "    input_ids, beam_scores = init_beam_search(model, input_ids, num_beams)\n",
    "\n",
    "    token_scores = beam_scores.clone().view(num_beams, 1)\n",
    "\n",
    "    model_kwargs = {}\n",
    "    for i in range(num_decode_steps):\n",
    "        model_inputs = model.prepare_inputs_for_generation(input_ids, **model_kwargs)\n",
    "        outputs = model(**model_inputs, return_dict=True)\n",
    "        next_token_logits = outputs.logits[:, -1, :]\n",
    "        vocab_size = next_token_logits.shape[-1]\n",
    "        this_token_scores = torch.log_softmax(next_token_logits, -1)\n",
    "\n",
    "        # Process token scores.\n",
    "        processed_token_scores = this_token_scores\n",
    "        for processor in score_processors:\n",
    "            processed_token_scores = processor(input_ids, processed_token_scores)\n",
    "\n",
    "        # Update beam scores.\n",
    "        next_token_scores = processed_token_scores + beam_scores.unsqueeze(-1)\n",
    "\n",
    "        # Reshape for beam-search.\n",
    "        next_token_scores = next_token_scores.view(num_beams * vocab_size)\n",
    "\n",
    "        # Find top-scoring beams.\n",
    "        next_token_scores, next_tokens = torch.topk(\n",
    "            next_token_scores, num_beams, dim=0, largest=True, sorted=True\n",
    "        )\n",
    "\n",
    "        # Transform tokens since we reshaped earlier.\n",
    "        next_indices = torch.div(next_tokens, vocab_size, rounding_mode=\"floor\") # This is equivalent to `next_tokens // vocab_size`\n",
    "        next_tokens = next_tokens % vocab_size\n",
    "\n",
    "        # Update tokens.\n",
    "        input_ids = torch.cat([input_ids[next_indices, :], next_tokens.unsqueeze(-1)], dim=-1)\n",
    "\n",
    "        # Update beam scores.\n",
    "        beam_scores = next_token_scores\n",
    "\n",
    "        # Update token scores.\n",
    "\n",
    "        # UNCOMMENT: To use original scores instead.\n",
    "        # token_scores = torch.cat([token_scores[next_indices, :], this_token_scores[next_indices, next_tokens].unsqueeze(-1)], dim=-1)\n",
    "        token_scores = torch.cat([token_scores[next_indices, :], processed_token_scores[next_indices, next_tokens].unsqueeze(-1)], dim=-1)\n",
    "\n",
    "        # Update hidden state.\n",
    "        model_kwargs = model._update_model_kwargs_for_generation(outputs, model_kwargs, is_encoder_decoder=False)\n",
    "        model_kwargs[\"past\"] = model._reorder_cache(model_kwargs[\"past\"], next_indices)\n",
    "\n",
    "    def transfer(x):\n",
    "        return x.cpu() if to_cpu else x\n",
    "\n",
    "    return {\n",
    "        \"output_ids\": transfer(input_ids),\n",
    "        \"beam_scores\": transfer(beam_scores),\n",
    "        \"token_scores\": transfer(token_scores)\n",
    "    }\n",
    "\n",
    "\n",
    "def run_beam_search(*args, **kwargs):\n",
    "    with torch.inference_mode():\n",
    "        return run_beam_search_(*args, **kwargs)\n"
   ]
  },
  {
   "cell_type": "code",
   "execution_count": 17,
   "metadata": {},
   "outputs": [
    {
     "data": {
      "text/html": [
       "<pre style=\"white-space:pre;overflow-x:auto;line-height:normal;font-family:Menlo,'DejaVu Sans Mono',consolas,'Courier New',monospace\"><span style=\"color: #000000; text-decoration-color: #000000; background-color: #d73127; font-weight: bold\">hello world rgb(</span><span style=\"color: #000000; text-decoration-color: #000000; background-color: #d73127; font-weight: bold\">215</span><span style=\"color: #000000; text-decoration-color: #000000; background-color: #d73127; font-weight: bold\">,</span><span style=\"color: #000000; text-decoration-color: #000000; background-color: #d73127; font-weight: bold\">49</span><span style=\"color: #000000; text-decoration-color: #000000; background-color: #d73127; font-weight: bold\">,</span><span style=\"color: #000000; text-decoration-color: #000000; background-color: #d73127; font-weight: bold\">39</span><span style=\"color: #000000; text-decoration-color: #000000; background-color: #d73127; font-weight: bold\">)</span>\n",
       "</pre>\n"
      ],
      "text/plain": [
       "\u001b[1;38;2;0;0;0;48;2;215;49;39mhello world \u001b[0m\u001b[1;38;2;0;0;0;48;2;215;49;39mrgb\u001b[0m\u001b[1;38;2;0;0;0;48;2;215;49;39m(\u001b[0m\u001b[1;38;2;0;0;0;48;2;215;49;39m215\u001b[0m\u001b[1;38;2;0;0;0;48;2;215;49;39m,\u001b[0m\u001b[1;38;2;0;0;0;48;2;215;49;39m49\u001b[0m\u001b[1;38;2;0;0;0;48;2;215;49;39m,\u001b[0m\u001b[1;38;2;0;0;0;48;2;215;49;39m39\u001b[0m\u001b[1;38;2;0;0;0;48;2;215;49;39m)\u001b[0m\n"
      ]
     },
     "metadata": {},
     "output_type": "display_data"
    },
    {
     "data": {
      "text/html": [
       "<pre style=\"white-space:pre;overflow-x:auto;line-height:normal;font-family:Menlo,'DejaVu Sans Mono',consolas,'Courier New',monospace\"><span style=\"color: #000000; text-decoration-color: #000000; background-color: #f46f44; font-weight: bold\">hello world rgb(</span><span style=\"color: #000000; text-decoration-color: #000000; background-color: #f46f44; font-weight: bold\">244</span><span style=\"color: #000000; text-decoration-color: #000000; background-color: #f46f44; font-weight: bold\">,</span><span style=\"color: #000000; text-decoration-color: #000000; background-color: #f46f44; font-weight: bold\">111</span><span style=\"color: #000000; text-decoration-color: #000000; background-color: #f46f44; font-weight: bold\">,</span><span style=\"color: #000000; text-decoration-color: #000000; background-color: #f46f44; font-weight: bold\">68</span><span style=\"color: #000000; text-decoration-color: #000000; background-color: #f46f44; font-weight: bold\">)</span>\n",
       "</pre>\n"
      ],
      "text/plain": [
       "\u001b[1;38;2;0;0;0;48;2;244;111;68mhello world \u001b[0m\u001b[1;38;2;0;0;0;48;2;244;111;68mrgb\u001b[0m\u001b[1;38;2;0;0;0;48;2;244;111;68m(\u001b[0m\u001b[1;38;2;0;0;0;48;2;244;111;68m244\u001b[0m\u001b[1;38;2;0;0;0;48;2;244;111;68m,\u001b[0m\u001b[1;38;2;0;0;0;48;2;244;111;68m111\u001b[0m\u001b[1;38;2;0;0;0;48;2;244;111;68m,\u001b[0m\u001b[1;38;2;0;0;0;48;2;244;111;68m68\u001b[0m\u001b[1;38;2;0;0;0;48;2;244;111;68m)\u001b[0m\n"
      ]
     },
     "metadata": {},
     "output_type": "display_data"
    },
    {
     "data": {
      "text/html": [
       "<pre style=\"white-space:pre;overflow-x:auto;line-height:normal;font-family:Menlo,'DejaVu Sans Mono',consolas,'Courier New',monospace\"><span style=\"color: #000000; text-decoration-color: #000000; background-color: #fdb063; font-weight: bold\">hello world rgb(</span><span style=\"color: #000000; text-decoration-color: #000000; background-color: #fdb063; font-weight: bold\">253</span><span style=\"color: #000000; text-decoration-color: #000000; background-color: #fdb063; font-weight: bold\">,</span><span style=\"color: #000000; text-decoration-color: #000000; background-color: #fdb063; font-weight: bold\">176</span><span style=\"color: #000000; text-decoration-color: #000000; background-color: #fdb063; font-weight: bold\">,</span><span style=\"color: #000000; text-decoration-color: #000000; background-color: #fdb063; font-weight: bold\">99</span><span style=\"color: #000000; text-decoration-color: #000000; background-color: #fdb063; font-weight: bold\">)</span>\n",
       "</pre>\n"
      ],
      "text/plain": [
       "\u001b[1;38;2;0;0;0;48;2;253;176;99mhello world \u001b[0m\u001b[1;38;2;0;0;0;48;2;253;176;99mrgb\u001b[0m\u001b[1;38;2;0;0;0;48;2;253;176;99m(\u001b[0m\u001b[1;38;2;0;0;0;48;2;253;176;99m253\u001b[0m\u001b[1;38;2;0;0;0;48;2;253;176;99m,\u001b[0m\u001b[1;38;2;0;0;0;48;2;253;176;99m176\u001b[0m\u001b[1;38;2;0;0;0;48;2;253;176;99m,\u001b[0m\u001b[1;38;2;0;0;0;48;2;253;176;99m99\u001b[0m\u001b[1;38;2;0;0;0;48;2;253;176;99m)\u001b[0m\n"
      ]
     },
     "metadata": {},
     "output_type": "display_data"
    },
    {
     "data": {
      "text/html": [
       "<pre style=\"white-space:pre;overflow-x:auto;line-height:normal;font-family:Menlo,'DejaVu Sans Mono',consolas,'Courier New',monospace\"><span style=\"color: #000000; text-decoration-color: #000000; background-color: #fee293; font-weight: bold\">hello world rgb(</span><span style=\"color: #000000; text-decoration-color: #000000; background-color: #fee293; font-weight: bold\">254</span><span style=\"color: #000000; text-decoration-color: #000000; background-color: #fee293; font-weight: bold\">,</span><span style=\"color: #000000; text-decoration-color: #000000; background-color: #fee293; font-weight: bold\">226</span><span style=\"color: #000000; text-decoration-color: #000000; background-color: #fee293; font-weight: bold\">,</span><span style=\"color: #000000; text-decoration-color: #000000; background-color: #fee293; font-weight: bold\">147</span><span style=\"color: #000000; text-decoration-color: #000000; background-color: #fee293; font-weight: bold\">)</span>\n",
       "</pre>\n"
      ],
      "text/plain": [
       "\u001b[1;38;2;0;0;0;48;2;254;226;147mhello world \u001b[0m\u001b[1;38;2;0;0;0;48;2;254;226;147mrgb\u001b[0m\u001b[1;38;2;0;0;0;48;2;254;226;147m(\u001b[0m\u001b[1;38;2;0;0;0;48;2;254;226;147m254\u001b[0m\u001b[1;38;2;0;0;0;48;2;254;226;147m,\u001b[0m\u001b[1;38;2;0;0;0;48;2;254;226;147m226\u001b[0m\u001b[1;38;2;0;0;0;48;2;254;226;147m,\u001b[0m\u001b[1;38;2;0;0;0;48;2;254;226;147m147\u001b[0m\u001b[1;38;2;0;0;0;48;2;254;226;147m)\u001b[0m\n"
      ]
     },
     "metadata": {},
     "output_type": "display_data"
    },
    {
     "data": {
      "text/html": [
       "<pre style=\"white-space:pre;overflow-x:auto;line-height:normal;font-family:Menlo,'DejaVu Sans Mono',consolas,'Courier New',monospace\"><span style=\"color: #000000; text-decoration-color: #000000; background-color: #fbfdc4; font-weight: bold\">hello world rgb(</span><span style=\"color: #000000; text-decoration-color: #000000; background-color: #fbfdc4; font-weight: bold\">251</span><span style=\"color: #000000; text-decoration-color: #000000; background-color: #fbfdc4; font-weight: bold\">,</span><span style=\"color: #000000; text-decoration-color: #000000; background-color: #fbfdc4; font-weight: bold\">253</span><span style=\"color: #000000; text-decoration-color: #000000; background-color: #fbfdc4; font-weight: bold\">,</span><span style=\"color: #000000; text-decoration-color: #000000; background-color: #fbfdc4; font-weight: bold\">196</span><span style=\"color: #000000; text-decoration-color: #000000; background-color: #fbfdc4; font-weight: bold\">)</span>\n",
       "</pre>\n"
      ],
      "text/plain": [
       "\u001b[1;38;2;0;0;0;48;2;251;253;196mhello world \u001b[0m\u001b[1;38;2;0;0;0;48;2;251;253;196mrgb\u001b[0m\u001b[1;38;2;0;0;0;48;2;251;253;196m(\u001b[0m\u001b[1;38;2;0;0;0;48;2;251;253;196m251\u001b[0m\u001b[1;38;2;0;0;0;48;2;251;253;196m,\u001b[0m\u001b[1;38;2;0;0;0;48;2;251;253;196m253\u001b[0m\u001b[1;38;2;0;0;0;48;2;251;253;196m,\u001b[0m\u001b[1;38;2;0;0;0;48;2;251;253;196m196\u001b[0m\u001b[1;38;2;0;0;0;48;2;251;253;196m)\u001b[0m\n"
      ]
     },
     "metadata": {},
     "output_type": "display_data"
    },
    {
     "data": {
      "text/html": [
       "<pre style=\"white-space:pre;overflow-x:auto;line-height:normal;font-family:Menlo,'DejaVu Sans Mono',consolas,'Courier New',monospace\"><span style=\"color: #000000; text-decoration-color: #000000; background-color: #d9eff6; font-weight: bold\">hello world rgb(</span><span style=\"color: #000000; text-decoration-color: #000000; background-color: #d9eff6; font-weight: bold\">217</span><span style=\"color: #000000; text-decoration-color: #000000; background-color: #d9eff6; font-weight: bold\">,</span><span style=\"color: #000000; text-decoration-color: #000000; background-color: #d9eff6; font-weight: bold\">239</span><span style=\"color: #000000; text-decoration-color: #000000; background-color: #d9eff6; font-weight: bold\">,</span><span style=\"color: #000000; text-decoration-color: #000000; background-color: #d9eff6; font-weight: bold\">246</span><span style=\"color: #000000; text-decoration-color: #000000; background-color: #d9eff6; font-weight: bold\">)</span>\n",
       "</pre>\n"
      ],
      "text/plain": [
       "\u001b[1;38;2;0;0;0;48;2;217;239;246mhello world \u001b[0m\u001b[1;38;2;0;0;0;48;2;217;239;246mrgb\u001b[0m\u001b[1;38;2;0;0;0;48;2;217;239;246m(\u001b[0m\u001b[1;38;2;0;0;0;48;2;217;239;246m217\u001b[0m\u001b[1;38;2;0;0;0;48;2;217;239;246m,\u001b[0m\u001b[1;38;2;0;0;0;48;2;217;239;246m239\u001b[0m\u001b[1;38;2;0;0;0;48;2;217;239;246m,\u001b[0m\u001b[1;38;2;0;0;0;48;2;217;239;246m246\u001b[0m\u001b[1;38;2;0;0;0;48;2;217;239;246m)\u001b[0m\n"
      ]
     },
     "metadata": {},
     "output_type": "display_data"
    },
    {
     "data": {
      "text/html": [
       "<pre style=\"white-space:pre;overflow-x:auto;line-height:normal;font-family:Menlo,'DejaVu Sans Mono',consolas,'Courier New',monospace\"><span style=\"color: #000000; text-decoration-color: #000000; background-color: #a3d2e5; font-weight: bold\">hello world rgb(</span><span style=\"color: #000000; text-decoration-color: #000000; background-color: #a3d2e5; font-weight: bold\">163</span><span style=\"color: #000000; text-decoration-color: #000000; background-color: #a3d2e5; font-weight: bold\">,</span><span style=\"color: #000000; text-decoration-color: #000000; background-color: #a3d2e5; font-weight: bold\">210</span><span style=\"color: #000000; text-decoration-color: #000000; background-color: #a3d2e5; font-weight: bold\">,</span><span style=\"color: #000000; text-decoration-color: #000000; background-color: #a3d2e5; font-weight: bold\">229</span><span style=\"color: #000000; text-decoration-color: #000000; background-color: #a3d2e5; font-weight: bold\">)</span>\n",
       "</pre>\n"
      ],
      "text/plain": [
       "\u001b[1;38;2;0;0;0;48;2;163;210;229mhello world \u001b[0m\u001b[1;38;2;0;0;0;48;2;163;210;229mrgb\u001b[0m\u001b[1;38;2;0;0;0;48;2;163;210;229m(\u001b[0m\u001b[1;38;2;0;0;0;48;2;163;210;229m163\u001b[0m\u001b[1;38;2;0;0;0;48;2;163;210;229m,\u001b[0m\u001b[1;38;2;0;0;0;48;2;163;210;229m210\u001b[0m\u001b[1;38;2;0;0;0;48;2;163;210;229m,\u001b[0m\u001b[1;38;2;0;0;0;48;2;163;210;229m229\u001b[0m\u001b[1;38;2;0;0;0;48;2;163;210;229m)\u001b[0m\n"
      ]
     },
     "metadata": {},
     "output_type": "display_data"
    },
    {
     "data": {
      "text/html": [
       "<pre style=\"white-space:pre;overflow-x:auto;line-height:normal;font-family:Menlo,'DejaVu Sans Mono',consolas,'Courier New',monospace\"><span style=\"color: #000000; text-decoration-color: #000000; background-color: #6ca4cc; font-weight: bold\">hello world rgb(</span><span style=\"color: #000000; text-decoration-color: #000000; background-color: #6ca4cc; font-weight: bold\">108</span><span style=\"color: #000000; text-decoration-color: #000000; background-color: #6ca4cc; font-weight: bold\">,</span><span style=\"color: #000000; text-decoration-color: #000000; background-color: #6ca4cc; font-weight: bold\">164</span><span style=\"color: #000000; text-decoration-color: #000000; background-color: #6ca4cc; font-weight: bold\">,</span><span style=\"color: #000000; text-decoration-color: #000000; background-color: #6ca4cc; font-weight: bold\">204</span><span style=\"color: #000000; text-decoration-color: #000000; background-color: #6ca4cc; font-weight: bold\">)</span>\n",
       "</pre>\n"
      ],
      "text/plain": [
       "\u001b[1;38;2;0;0;0;48;2;108;164;204mhello world \u001b[0m\u001b[1;38;2;0;0;0;48;2;108;164;204mrgb\u001b[0m\u001b[1;38;2;0;0;0;48;2;108;164;204m(\u001b[0m\u001b[1;38;2;0;0;0;48;2;108;164;204m108\u001b[0m\u001b[1;38;2;0;0;0;48;2;108;164;204m,\u001b[0m\u001b[1;38;2;0;0;0;48;2;108;164;204m164\u001b[0m\u001b[1;38;2;0;0;0;48;2;108;164;204m,\u001b[0m\u001b[1;38;2;0;0;0;48;2;108;164;204m204\u001b[0m\u001b[1;38;2;0;0;0;48;2;108;164;204m)\u001b[0m\n"
      ]
     },
     "metadata": {},
     "output_type": "display_data"
    },
    {
     "data": {
      "text/html": [
       "<pre style=\"white-space:pre;overflow-x:auto;line-height:normal;font-family:Menlo,'DejaVu Sans Mono',consolas,'Courier New',monospace\"><span style=\"color: #000000; text-decoration-color: #000000; background-color: #f46f44; font-weight: bold\">the</span><span style=\"color: #000000; text-decoration-color: #000000; background-color: #a3d2e5; font-weight: bold\"> brown</span><span style=\"color: #000000; text-decoration-color: #000000; background-color: #fbfdc4; font-weight: bold\"> fox</span>\n",
       "</pre>\n"
      ],
      "text/plain": [
       "\u001b[1;38;2;0;0;0;48;2;244;111;68mthe\u001b[0m\u001b[1;38;2;0;0;0;48;2;163;210;229m brown\u001b[0m\u001b[1;38;2;0;0;0;48;2;251;253;196m fox\u001b[0m\n"
      ]
     },
     "metadata": {},
     "output_type": "display_data"
    }
   ],
   "source": [
    "# Add support for colored printing and plotting.\n",
    "\n",
    "from rich import print as rich_print\n",
    "\n",
    "import numpy as np\n",
    "\n",
    "import matplotlib\n",
    "from matplotlib import pyplot as plt\n",
    "# from matplotlib import cm\n",
    "import matplotlib.cm\n",
    "\n",
    "RICH_x = np.linspace(0.0, 1.0, 50)\n",
    "RICH_rgb = (matplotlib.cm.get_cmap(plt.get_cmap('RdYlBu'))(RICH_x)[:, :3] * 255).astype(np.int32)[range(5, 45, 5)]\n",
    "\n",
    "\n",
    "def print_with_probs(words, probs, prefix=None):\n",
    "    def fmt(x, p, is_first=False):\n",
    "        ix = int(p * RICH_rgb.shape[0])\n",
    "        r, g, b = RICH_rgb[ix]\n",
    "        if is_first:\n",
    "            return f'[bold rgb(0,0,0) on rgb({r},{g},{b})]{x}'\n",
    "        else:\n",
    "            return f'[bold rgb(0,0,0) on rgb({r},{g},{b})] {x}'\n",
    "        \n",
    "    output = []\n",
    "    if prefix is not None:\n",
    "        output.append(prefix)\n",
    "    for i, (x, p) in enumerate(zip(words, probs)):\n",
    "        output.append(fmt(x, p, is_first=i == 0))\n",
    "            \n",
    "    rich_print(''.join(output))\n",
    "\n",
    "# DEMO\n",
    "\n",
    "# Show range of colors.\n",
    "\n",
    "for i in range(RICH_rgb.shape[0]):\n",
    "  r, g, b = RICH_rgb[i]\n",
    "  rich_print(f'[bold rgb(0,0,0) on rgb({r},{g},{b})]hello world rgb({r},{g},{b})')\n",
    "\n",
    "# Example with words and probabilities.\n",
    "\n",
    "words = ['the', 'brown', 'fox']\n",
    "probs = [0.14, 0.83, 0.5]\n",
    "print_with_probs(words, probs)"
   ]
  },
  {
   "cell_type": "markdown",
   "metadata": {
    "id": "lbieUEZViMJy"
   },
   "source": [
    "## Question 1.1 (5 points)\n",
    "\n",
    "Run the cell below. It produces a sequence of tokens using beam search and the provided prefix."
   ]
  },
  {
   "cell_type": "code",
   "execution_count": 18,
   "metadata": {
    "colab": {
     "base_uri": "https://localhost:8080/"
    },
    "id": "WccupVHjymFv",
    "outputId": "f7adf9d7-5cad-441f-a0be-046b5bd20213"
   },
   "outputs": [
    {
     "name": "stdout",
     "output_type": "stream",
     "text": [
      "0 -1.106 The brown fox jumps out of the fox's mouth, and the fox\n",
      "1 -1.168 The brown fox jumps out of the fox's cage, and the fox\n",
      "2 -1.182 The brown fox jumps out of the fox's mouth and starts to run\n",
      "3 -1.192 The brown fox jumps out of the fox's mouth and begins to lick\n",
      "4 -1.199 The brown fox jumps out of the fox's mouth and begins to bite\n"
     ]
    }
   ],
   "source": [
    "num_beams = 5\n",
    "num_decode_steps = 10\n",
    "input_text = 'The brown fox jumps'\n",
    "\n",
    "beam_output = run_beam_search(model, tokenizer, input_text, num_beams=num_beams, num_decode_steps=num_decode_steps)\n",
    "for i, tokens in enumerate(beam_output['output_ids']):\n",
    "    score = beam_output['beam_scores'][i]\n",
    "    print(i, round(score.item() / tokens.shape[-1], 3), tokenizer.decode(tokens, skip_special_tokens=True))\n"
   ]
  },
  {
   "cell_type": "markdown",
   "metadata": {
    "id": "t6zN9dbNLBl8"
   },
   "source": [
    "To get you more acquainted with the code, let's do a simple exercise first. Write your own code in the cell below to generate 3 tokens with a beam size of 4, and then print out the **third most probable** output sequence found during the search. Use the same prefix as above."
   ]
  },
  {
   "cell_type": "code",
   "execution_count": 40,
   "metadata": {
    "colab": {
     "base_uri": "https://localhost:8080/"
    },
    "id": "STizG6yiLqIS",
    "outputId": "e1ff81ae-bc89-4474-d49f-51c8729410b3"
   },
   "outputs": [
    {
     "name": "stdout",
     "output_type": "stream",
     "text": [
      "Third most probable output sequence:  [-0.627, 'The brown fox jumps up and down']\n"
     ]
    }
   ],
   "source": [
    "input_text = 'The brown fox jumps'\n",
    "\n",
    "num_beams = 4\n",
    "num_decode_steps = 3\n",
    "\n",
    "beam_output = run_beam_search(model, tokenizer, input_text, num_beams=num_beams, num_decode_steps=num_decode_steps)\n",
    "\n",
    "sequences = []\n",
    "for i, tokens in enumerate(beam_output['output_ids']):\n",
    "    score = beam_output['beam_scores'][i]\n",
    "    sequences.append([round(score.item() / tokens.shape[-1], 3), tokenizer.decode(tokens, skip_special_tokens=True)])\n",
    "\n",
    "sorted_sequences = sorted(sequences, key=lambda x: x[0], reverse=True)\n",
    "print(\"Third most probable output sequence: \", sorted_sequences[2])"
   ]
  },
  {
   "cell_type": "markdown",
   "metadata": {
    "id": "15aHJGr8p0mD"
   },
   "source": [
    "## Question 1.2 (5 points)\n",
    "\n",
    "Run the cell below to visualize the probabilities the model assigns for each generated word when using beam search with beam size 1 (i.e., greedy decoding)."
   ]
  },
  {
   "cell_type": "code",
   "execution_count": 20,
   "metadata": {
    "colab": {
     "base_uri": "https://localhost:8080/",
     "height": 569
    },
    "id": "lDXNNlktqIUW",
    "outputId": "3fee332a-722b-4fd5-ae50-a058ecefd558"
   },
   "outputs": [
    {
     "name": "stdout",
     "output_type": "stream",
     "text": [
      "Visualizeation with plot:\n"
     ]
    },
    {
     "data": {
      "image/png": "[encoded data removed]",
      "text/plain": [
       "<Figure size 432x288 with 1 Axes>"
      ]
     },
     "metadata": {
      "needs_background": "light"
     },
     "output_type": "display_data"
    },
    {
     "name": "stdout",
     "output_type": "stream",
     "text": [
      "Visualization with colored text (red for lower probability, and blue for higher):\n"
     ]
    },
    {
     "data": {
      "text/html": [
       "<pre style=\"white-space:pre;overflow-x:auto;line-height:normal;font-family:Menlo,'DejaVu Sans Mono',consolas,'Courier New',monospace\">The  brown  fox  jumps<span style=\"color: #000000; text-decoration-color: #000000; background-color: #f46f44; font-weight: bold\"> up</span><span style=\"color: #000000; text-decoration-color: #000000; background-color: #fee293; font-weight: bold\">  and</span><span style=\"color: #000000; text-decoration-color: #000000; background-color: #f46f44; font-weight: bold\">  down  on</span><span style=\"color: #000000; text-decoration-color: #000000; background-color: #fee293; font-weight: bold\">  the</span><span style=\"color: #000000; text-decoration-color: #000000; background-color: #f46f44; font-weight: bold\">  ground ,</span><span style=\"color: #000000; text-decoration-color: #000000; background-color: #d73127; font-weight: bold\">  and  then  he  jumps</span><span style=\"color: #000000; text-decoration-color: #000000; background-color: #fdb063; font-weight: bold\">  up</span><span style=\"color: #000000; text-decoration-color: #000000; background-color: #fbfdc4; font-weight: bold\">  and</span><span style=\"color: #000000; text-decoration-color: #000000; background-color: #a3d2e5; font-weight: bold\">  down</span><span style=\"color: #000000; text-decoration-color: #000000; background-color: #fdb063; font-weight: bold\">  on</span><span style=\"color: #000000; text-decoration-color: #000000; background-color: #d9eff6; font-weight: bold\">  the</span><span style=\"color: #000000; text-decoration-color: #000000; background-color: #fbfdc4; font-weight: bold\">  ground</span><span style=\"color: #000000; text-decoration-color: #000000; background-color: #fdb063; font-weight: bold\">  </span>\n",
       "<span style=\"color: #000000; text-decoration-color: #000000; background-color: #fdb063; font-weight: bold\">again</span><span style=\"color: #000000; text-decoration-color: #000000; background-color: #fbfdc4; font-weight: bold\"> .</span><span style=\"color: #000000; text-decoration-color: #000000; background-color: #f46f44; font-weight: bold\"> </span>\n",
       "\n",
       "</pre>\n"
      ],
      "text/plain": [
       "The  brown  fox  jumps\u001b[1;38;2;0;0;0;48;2;244;111;68m up\u001b[0m\u001b[1;38;2;0;0;0;48;2;254;226;147m  and\u001b[0m\u001b[1;38;2;0;0;0;48;2;244;111;68m  down\u001b[0m\u001b[1;38;2;0;0;0;48;2;244;111;68m  on\u001b[0m\u001b[1;38;2;0;0;0;48;2;254;226;147m  the\u001b[0m\u001b[1;38;2;0;0;0;48;2;244;111;68m  ground\u001b[0m\u001b[1;38;2;0;0;0;48;2;244;111;68m ,\u001b[0m\u001b[1;38;2;0;0;0;48;2;215;49;39m  and\u001b[0m\u001b[1;38;2;0;0;0;48;2;215;49;39m  then\u001b[0m\u001b[1;38;2;0;0;0;48;2;215;49;39m  he\u001b[0m\u001b[1;38;2;0;0;0;48;2;215;49;39m  jumps\u001b[0m\u001b[1;38;2;0;0;0;48;2;253;176;99m  up\u001b[0m\u001b[1;38;2;0;0;0;48;2;251;253;196m  and\u001b[0m\u001b[1;38;2;0;0;0;48;2;163;210;229m  down\u001b[0m\u001b[1;38;2;0;0;0;48;2;253;176;99m  on\u001b[0m\u001b[1;38;2;0;0;0;48;2;217;239;246m  the\u001b[0m\u001b[1;38;2;0;0;0;48;2;251;253;196m  ground\u001b[0m\u001b[1;38;2;0;0;0;48;2;253;176;99m  \u001b[0m\n",
       "\u001b[1;38;2;0;0;0;48;2;253;176;99magain\u001b[0m\u001b[1;38;2;0;0;0;48;2;251;253;196m .\u001b[0m\u001b[1;38;2;0;0;0;48;2;244;111;68m \u001b[0m\n",
       "\n"
      ]
     },
     "metadata": {},
     "output_type": "display_data"
    }
   ],
   "source": [
    "input_text = 'The brown fox jumps'\n",
    "beam_output = run_beam_search(model, tokenizer, input_text, num_beams=1, num_decode_steps=20)\n",
    "probs = beam_output['token_scores'][0, 1:].exp()\n",
    "output_subwords = [tokenizer.decode(tok, skip_special_tokens=True) for tok in beam_output['output_ids'][0]]\n",
    "\n",
    "print('Visualizeation with plot:')\n",
    "\n",
    "fig, ax = plt.subplots()\n",
    "plt.plot(range(len(probs)), probs)\n",
    "ax.set_xticks(range(len(probs)))\n",
    "ax.set_xticklabels(output_subwords[-len(probs):], rotation = 45)\n",
    "plt.xlabel('word')\n",
    "plt.ylabel('prob')\n",
    "plt.show()\n",
    "\n",
    "print('Visualization with colored text (red for lower probability, and blue for higher):')\n",
    "\n",
    "print_with_probs(output_subwords[-len(probs):], probs, ' '.join(output_subwords[:-len(probs)]))"
   ]
  },
  {
   "cell_type": "markdown",
   "metadata": {
    "id": "KZq6Zhw0MKuo"
   },
   "source": [
    "Why does the model assign higher probability to tokens generated later than to tokens generated earlier?"
   ]
  },
  {
   "cell_type": "markdown",
   "metadata": {
    "id": "lY8G4tJMMGl4"
   },
   "source": [
    "#### <font color=\"red\">Write your answer here </font>\n",
    "\n",
    "GPT-2, which is a decoder-only model, uses the context so far to generate the next token in the output sequence. So, as the output sequence is generated, more context keeps becoming available, and for this current token more previous tokens become available as context. Additionally, GPT-2 has a big context window which allows it to capture long-range dependencies in text. Therefore, it considers entire preceding context when generating each token.  This results is higher probabilities for later tokens. \n",
    "\n",
    "Also, in greedy decoding each token is selected only based on its individual probability given by the model. Since probability of each token is conditioned on the preceding context, which accumulates as the sequence progresses, tokens generated later in the sequence have higher probabilities."
   ]
  },
  {
   "cell_type": "markdown",
   "metadata": {
    "id": "Boog4GEBsBCo"
   },
   "source": [
    "\n",
    "\n",
    "Run the cell below to visualize the word probabilities when using different beam sizes."
   ]
  },
  {
   "cell_type": "code",
   "execution_count": 23,
   "metadata": {
    "colab": {
     "base_uri": "https://localhost:8080/",
     "height": 578
    },
    "id": "heX5mLxe-s-K",
    "outputId": "5855374d-c81a-4112-bf6f-2ad1896a1450"
   },
   "outputs": [
    {
     "name": "stdout",
     "output_type": "stream",
     "text": [
      "Visualization with plot:\n"
     ]
    },
    {
     "data": {
      "image/png": "[encoded data removed]",
      "text/plain": [
       "<Figure size 432x288 with 1 Axes>"
      ]
     },
     "metadata": {
      "needs_background": "light"
     },
     "output_type": "display_data"
    },
    {
     "name": "stdout",
     "output_type": "stream",
     "text": [
      "Model predictions:\n",
      "1 -0.9706188548694957 Once upon a time, in a barn near a farm house, a young boy was playing with a stick. He was playing with a stick, and the boy was\n",
      "2 -0.9286188067811908 Once upon a time, in a barn near a farm house, a young boy was playing with a stick. The boy was playing with a stick, and the boy\n",
      "3 -0.9597570823900627 Once upon a time, in a barn near a farm house, a young boy was playing with a stick. The boy, who had been playing with a stick,\n",
      "4 -0.9205122860995206 Once upon a time, in a barn near a farm house, there was a young girl who had been brought up by her mother. She had been brought up by\n",
      "5 -0.9058769110477332 Once upon a time, in a barn near a farm house, there was a man who had been living in the house for a long time. He was a man\n"
     ]
    }
   ],
   "source": [
    "input_text = 'Once upon a time, in a barn near a farm house,'\n",
    "num_decode_steps = 20\n",
    "model.cuda()\n",
    "\n",
    "beam_size_list = [1, 2, 3, 4, 5]\n",
    "output_list = []\n",
    "probs_list = []\n",
    "for bm in beam_size_list:\n",
    "    beam_output = run_beam_search(model, tokenizer, input_text, num_beams=bm, num_decode_steps=num_decode_steps)\n",
    "    output_list.append(beam_output)\n",
    "    probs = beam_output['token_scores'][0, 1:].exp()\n",
    "    probs_list.append((bm, probs))\n",
    "\n",
    "print('Visualization with plot:')\n",
    "fig, ax = plt.subplots()\n",
    "for bm, probs in probs_list:\n",
    "    plt.plot(range(len(probs)), probs, label=f'beam size = {bm}')\n",
    "plt.xlabel('decode step')\n",
    "plt.ylabel('prob')\n",
    "plt.legend(loc='best')\n",
    "plt.show()\n",
    "\n",
    "print('Model predictions:')\n",
    "for bm, beam_output in zip(beam_size_list, output_list):\n",
    "    tokens = beam_output['output_ids'][0]\n",
    "    print(bm, beam_output['beam_scores'][0].item() / tokens.shape[-1], tokenizer.decode(tokens, skip_special_tokens=True))"
   ]
  },
  {
   "cell_type": "markdown",
   "metadata": {
    "id": "uX4P6tTmtJ3Q"
   },
   "source": [
    "## Question 1.3 (10 points)\n",
    "\n",
    "Beam search often results in repetition in the predicted tokens. In the following cell we pass a score processor called `WordBlock` to `run_beam_search`. At each time step, it reduces the probability for any previously seen word so that it is not generated again.\n",
    "\n",
    "Run the cell to see how the output of beam search changes with and without using `WordBlock`."
   ]
  },
  {
   "cell_type": "code",
   "execution_count": 29,
   "metadata": {
    "colab": {
     "base_uri": "https://localhost:8080/",
     "height": 239
    },
    "id": "yTu_HemeLquc",
    "outputId": "ec0fc40c-8cfd-4535-9394-819bb45fd568"
   },
   "outputs": [
    {
     "name": "stdout",
     "output_type": "stream",
     "text": [
      "\n",
      "Beam Search:\n",
      "Once upon a time, in a barn near a farm house, a young boy was playing with a stick. He was playing with a stick, and the boy was playing with a stick. The boy was playing with a stick, and the boy was playing with a\n",
      "\n",
      "Beam Search w/ Word Block:\n",
      "Once upon a time, in a barn near a farm house, the young girl was playing with her father's dog. She had been told that she would be given to him by his wife and he could take care of it for herself if needed; but when they\n"
     ]
    }
   ],
   "source": [
    "import collections\n",
    "\n",
    "class WordBlock:\n",
    "    def __call__(self, input_ids, scores):\n",
    "        for batch_idx in range(input_ids.shape[0]):\n",
    "            for x in input_ids[batch_idx].tolist():\n",
    "                scores[batch_idx, x] = -1e9\n",
    "        return scores\n",
    "\n",
    "input_text = 'Once upon a time, in a barn near a farm house,'\n",
    "num_beams = 1\n",
    "\n",
    "print('\\nBeam Search:')\n",
    "beam_output = run_beam_search(model, tokenizer, input_text, num_beams=num_beams, num_decode_steps=40, score_processors=[])\n",
    "print(tokenizer.decode(beam_output['output_ids'][0], skip_special_tokens=True))\n",
    "\n",
    "print('\\nBeam Search w/ Word Block:')\n",
    "beam_output = run_beam_search(model, tokenizer, input_text, num_beams=num_beams, num_decode_steps=40, score_processors=[WordBlock()])\n",
    "print(tokenizer.decode(beam_output['output_ids'][0], skip_special_tokens=True))\n"
   ]
  },
  {
   "cell_type": "markdown",
   "metadata": {
    "id": "BMJ8KVrZSTQz"
   },
   "source": [
    "Is `WordBlock` a practical way to prevent repetition in beam search? What (if anything) could go wrong when using `WordBlock`?"
   ]
  },
  {
   "cell_type": "markdown",
   "metadata": {
    "id": "WT0Jv2SBTinm"
   },
   "source": [
    "#### <font color=\"red\">Write your answer here </font>\n",
    "\n",
    "In the above example we can see that beam search with `WordBlock` is able to prevent repetition of words, whereas, simple beam search has the phrase \"playing with a stick\" repeated several times. Although `WordBlock` seems a practical way to prevent repetition in beam search, I do not think it will always be effective.\n",
    "\n",
    "Just reducing the probability of previously seen words can lead to generation of incoherent sentences. In cases where certain words naturally occur in a given context, just prevent them from being generated can result in the text generation being unnatural. Additionally, a single word can appear in different contexts. If we just prevent that word from being generated without considering the surrounding context, the generated text will be incoherent. Like in machine translation task, the target language can have the same word meaning different things. Preventing that word from being generated if previously seen will adversely affect the translation quality.\n",
    "\n",
    "`WordBlock` also limits the model's vocabulary as the reduced probability of the seen word will prevent it from being selected. So the possible vocabulary for the next token is reduced at each time step."
   ]
  },
  {
   "cell_type": "markdown",
   "metadata": {
    "id": "U4937n1-t6l3"
   },
   "source": [
    "## Question 1.4 (20 points)\n",
    "\n",
    "Use the previous `WordBlock` example to write a new score processor called `BeamBlock`. Instead of uni-grams, your implementation should prevent tri-grams from appearing more than once in the sequence.\n",
    "\n",
    "Note: This technique is called \"beam blocking\" and is described [here](https://arxiv.org/pdf/1705.04304.pdf) (section 2.5). Also, for this assignment you do not need to re-normalize your output distribution after masking values, although typically re-normalization is done.\n",
    "\n",
    "Write your code in the indicated section in the below cell."
   ]
  },
  {
   "cell_type": "code",
   "execution_count": 39,
   "metadata": {
    "id": "PTQUGTWgtuBN"
   },
   "outputs": [
    {
     "name": "stdout",
     "output_type": "stream",
     "text": [
      "\n",
      "Beam Search:\n",
      "Once upon a time, in a barn near a farm house, a young boy was playing with a stick. He was playing with a stick, and the boy was playing with a stick. The boy was playing with a stick, and the boy was playing with a\n",
      "\n",
      "Beam Search w/ Beam Block:\n",
      "Once upon a time, in a barn near a farm house, the young girl was playing with her father's dog. She had been told that she would be given to him by his wife and he could take care of it for herself if needed; but when they\n"
     ]
    }
   ],
   "source": [
    "import collections\n",
    "\n",
    "class BeamBlock:\n",
    "    def __call__(self, input_ids, scores):\n",
    "        for batch_idx in range(input_ids.shape[0]):\n",
    "            input_ids_list = input_ids[batch_idx].tolist()\n",
    "            for i in range(len(input_ids_list)-2):\n",
    "                trigram = (input_ids_list[i], input_ids_list[i+1], input_ids_list[i+2])\n",
    "                scores[batch_idx, trigram] = -1e9\n",
    "        return scores\n",
    "\n",
    "input_text = 'Once upon a time, in a barn near a farm house,'\n",
    "num_beams = 1\n",
    "\n",
    "print('\\nBeam Search:')\n",
    "beam_output = run_beam_search(model, tokenizer, input_text, num_beams=num_beams, num_decode_steps=40, score_processors=[])\n",
    "print(tokenizer.decode(beam_output['output_ids'][0], skip_special_tokens=True))\n",
    "\n",
    "print('\\nBeam Search w/ Beam Block:')\n",
    "beam_output = run_beam_search(model, tokenizer, input_text, num_beams=num_beams, num_decode_steps=40, score_processors=[BeamBlock()])\n",
    "print(tokenizer.decode(beam_output['output_ids'][0], skip_special_tokens=True))\n"
   ]
  },
  {
   "cell_type": "markdown",
   "metadata": {
    "id": "72bCEqcNQWyw"
   },
   "source": [
    "\n",
    "\n",
    "# <font color=\"blue\"> Submission Instructions</font>\n",
    "\n",
    "1. Click the Save button at the top of the Jupyter Notebook.\n",
    "2. Select Edit -> Clear All Outputs. This will clear all the outputs from all cells (but will keep the content of all cells).\n",
    "3. Select Runtime -> Run All. This will run all the cells in order, and will take several minutes.\n",
    "4. Once you've rerun everything, save a PDF version of your notebook. <font color='blue'> Make sure all your solutions especially the coding parts are displayed in the pdf</font>, it's okay if the provided codes get cut off because lines are not wrapped in code cells).\n",
    "5. Look at the PDF file and make sure all your solutions are there, displayed correctly. The PDF is the only thing your graders will see!\n",
    "6. Submit your PDF on Gradescope.\n",
    "\n",
    "\n",
    "#### <font color=\"blue\"> Acknowledgements</font>\n",
    "This assignment is based on an assignment developed by Mohit Iyyer"
   ]
  }
 ],
 "metadata": {
  "accelerator": "GPU",
  "colab": {
   "collapsed_sections": [
    "SgNZTjrhcHa0",
    "d23zfO_ALKeB"
   ],
   "gpuType": "T4",
   "provenance": []
  },
  "kernelspec": {
   "display_name": "Python 3 (ipykernel)",
   "language": "python",
   "name": "python3"
  },
  "language_info": {
   "codemirror_mode": {
    "name": "ipython",
    "version": 3
   },
   "file_extension": ".py",
   "mimetype": "text/x-python",
   "name": "python",
   "nbconvert_exporter": "python",
   "pygments_lexer": "ipython3",
   "version": "3.9.5"
  },
  "widgets": {
   "application/vnd.jupyter.widget-state+json": {
    "046f4ce35d7047309a4659ae81e6abae": {
     "model_module": "@jupyter-widgets/base",
     "model_module_version": "1.2.0",
     "model_name": "LayoutModel",
     "state": {
      "_model_module": "@jupyter-widgets/base",
      "_model_module_version": "1.2.0",
      "_model_name": "LayoutModel",
      "_view_count": null,
      "_view_module": "@jupyter-widgets/base",
      "_view_module_version": "1.2.0",
      "_view_name": "LayoutView",
      "align_content": null,
      "align_items": null,
      "align_self": null,
      "border": null,
      "bottom": null,
      "display": null,
      "flex": null,
      "flex_flow": null,
      "grid_area": null,
      "grid_auto_columns": null,
      "grid_auto_flow": null,
      "grid_auto_rows": null,
      "grid_column": null,
      "grid_gap": null,
      "grid_row": null,
      "grid_template_areas": null,
      "grid_template_columns": null,
      "grid_template_rows": null,
      "height": null,
      "justify_content": null,
      "justify_items": null,
      "left": null,
      "margin": null,
      "max_height": null,
      "max_width": null,
      "min_height": null,
      "min_width": null,
      "object_fit": null,
      "object_position": null,
      "order": null,
      "overflow": null,
      "overflow_x": null,
      "overflow_y": null,
      "padding": null,
      "right": null,
      "top": null,
      "visibility": null,
      "width": null
     }
    },
    "05d3f036c7ba45fd9be9b6f692370d16": {
     "model_module": "@jupyter-widgets/controls",
     "model_module_version": "1.5.0",
     "model_name": "FloatProgressModel",
     "state": {
      "_dom_classes": [],
      "_model_module": "@jupyter-widgets/controls",
      "_model_module_version": "1.5.0",
      "_model_name": "FloatProgressModel",
      "_view_count": null,
      "_view_module": "@jupyter-widgets/controls",
      "_view_module_version": "1.5.0",
      "_view_name": "ProgressView",
      "bar_style": "success",
      "description": "",
      "description_tooltip": null,
      "layout": "IPY_MODEL_843fdd33ff8e4847b6012e4a64c0b31d",
      "max": 665,
      "min": 0,
      "orientation": "horizontal",
      "style": "IPY_MODEL_5cfbf5124d99475685bcaf5803c602a1",
      "value": 665
     }
    },
    "0f92195effe34ea88df8650aee0eb479": {
     "model_module": "@jupyter-widgets/controls",
     "model_module_version": "1.5.0",
     "model_name": "DescriptionStyleModel",
     "state": {
      "_model_module": "@jupyter-widgets/controls",
      "_model_module_version": "1.5.0",
      "_model_name": "DescriptionStyleModel",
      "_view_count": null,
      "_view_module": "@jupyter-widgets/base",
      "_view_module_version": "1.2.0",
      "_view_name": "StyleView",
      "description_width": ""
     }
    },
    "100170ddcca9437385dc33f7a6cbf919": {
     "model_module": "@jupyter-widgets/controls",
     "model_module_version": "1.5.0",
     "model_name": "ProgressStyleModel",
     "state": {
      "_model_module": "@jupyter-widgets/controls",
      "_model_module_version": "1.5.0",
      "_model_name": "ProgressStyleModel",
      "_view_count": null,
      "_view_module": "@jupyter-widgets/base",
      "_view_module_version": "1.2.0",
      "_view_name": "StyleView",
      "bar_color": null,
      "description_width": ""
     }
    },
    "1b62430a77444050bd8a34a6ff113ab1": {
     "model_module": "@jupyter-widgets/controls",
     "model_module_version": "1.5.0",
     "model_name": "DescriptionStyleModel",
     "state": {
      "_model_module": "@jupyter-widgets/controls",
      "_model_module_version": "1.5.0",
      "_model_name": "DescriptionStyleModel",
      "_view_count": null,
      "_view_module": "@jupyter-widgets/base",
      "_view_module_version": "1.2.0",
      "_view_name": "StyleView",
      "description_width": ""
     }
    },
    "1debabadf28145908663408485399bb6": {
     "model_module": "@jupyter-widgets/controls",
     "model_module_version": "1.5.0",
     "model_name": "HBoxModel",
     "state": {
      "_dom_classes": [],
      "_model_module": "@jupyter-widgets/controls",
      "_model_module_version": "1.5.0",
      "_model_name": "HBoxModel",
      "_view_count": null,
      "_view_module": "@jupyter-widgets/controls",
      "_view_module_version": "1.5.0",
      "_view_name": "HBoxView",
      "box_style": "",
      "children": [
       "IPY_MODEL_bb2686846331408aa04b6ef330bcac31",
       "IPY_MODEL_92f0f4aed9314aa88d3ed916dfb6730e",
       "IPY_MODEL_80cfe1475323485298e7e96bb49b024b"
      ],
      "layout": "IPY_MODEL_754930c73f3841f790879276a046b969"
     }
    },
    "1e50ba7b632c402e896dacda1cd7bfb3": {
     "model_module": "@jupyter-widgets/controls",
     "model_module_version": "1.5.0",
     "model_name": "HTMLModel",
     "state": {
      "_dom_classes": [],
      "_model_module": "@jupyter-widgets/controls",
      "_model_module_version": "1.5.0",
      "_model_name": "HTMLModel",
      "_view_count": null,
      "_view_module": "@jupyter-widgets/controls",
      "_view_module_version": "1.5.0",
      "_view_name": "HTMLView",
      "description": "",
      "description_tooltip": null,
      "layout": "IPY_MODEL_fdbede6577734ae28c0dbb7b9302083b",
      "placeholder": "​",
      "style": "IPY_MODEL_3a1d6b7355834ee7a3801ceae2a38b5e",
      "value": "Downloading: 100%"
     }
    },
    "27877f40c8cf48b1bb26775d723ddeff": {
     "model_module": "@jupyter-widgets/base",
     "model_module_version": "1.2.0",
     "model_name": "LayoutModel",
     "state": {
      "_model_module": "@jupyter-widgets/base",
      "_model_module_version": "1.2.0",
      "_model_name": "LayoutModel",
      "_view_count": null,
      "_view_module": "@jupyter-widgets/base",
      "_view_module_version": "1.2.0",
      "_view_name": "LayoutView",
      "align_content": null,
      "align_items": null,
      "align_self": null,
      "border": null,
      "bottom": null,
      "display": null,
      "flex": null,
      "flex_flow": null,
      "grid_area": null,
      "grid_auto_columns": null,
      "grid_auto_flow": null,
      "grid_auto_rows": null,
      "grid_column": null,
      "grid_gap": null,
      "grid_row": null,
      "grid_template_areas": null,
      "grid_template_columns": null,
      "grid_template_rows": null,
      "height": null,
      "justify_content": null,
      "justify_items": null,
      "left": null,
      "margin": null,
      "max_height": null,
      "max_width": null,
      "min_height": null,
      "min_width": null,
      "object_fit": null,
      "object_position": null,
      "order": null,
      "overflow": null,
      "overflow_x": null,
      "overflow_y": null,
      "padding": null,
      "right": null,
      "top": null,
      "visibility": null,
      "width": null
     }
    },
    "2916155dc9b94f618c95b36a4aa6c514": {
     "model_module": "@jupyter-widgets/controls",
     "model_module_version": "1.5.0",
     "model_name": "HTMLModel",
     "state": {
      "_dom_classes": [],
      "_model_module": "@jupyter-widgets/controls",
      "_model_module_version": "1.5.0",
      "_model_name": "HTMLModel",
      "_view_count": null,
      "_view_module": "@jupyter-widgets/controls",
      "_view_module_version": "1.5.0",
      "_view_name": "HTMLView",
      "description": "",
      "description_tooltip": null,
      "layout": "IPY_MODEL_9e187c7da5774de783285d0e9e8026f0",
      "placeholder": "​",
      "style": "IPY_MODEL_66c927b4f3a74e988bb6d5de91f7baed",
      "value": "Downloading: 100%"
     }
    },
    "2c35d315b71c4674824da011abe2fc8c": {
     "model_module": "@jupyter-widgets/base",
     "model_module_version": "1.2.0",
     "model_name": "LayoutModel",
     "state": {
      "_model_module": "@jupyter-widgets/base",
      "_model_module_version": "1.2.0",
      "_model_name": "LayoutModel",
      "_view_count": null,
      "_view_module": "@jupyter-widgets/base",
      "_view_module_version": "1.2.0",
      "_view_name": "LayoutView",
      "align_content": null,
      "align_items": null,
      "align_self": null,
      "border": null,
      "bottom": null,
      "display": null,
      "flex": null,
      "flex_flow": null,
      "grid_area": null,
      "grid_auto_columns": null,
      "grid_auto_flow": null,
      "grid_auto_rows": null,
      "grid_column": null,
      "grid_gap": null,
      "grid_row": null,
      "grid_template_areas": null,
      "grid_template_columns": null,
      "grid_template_rows": null,
      "height": null,
      "justify_content": null,
      "justify_items": null,
      "left": null,
      "margin": null,
      "max_height": null,
      "max_width": null,
      "min_height": null,
      "min_width": null,
      "object_fit": null,
      "object_position": null,
      "order": null,
      "overflow": null,
      "overflow_x": null,
      "overflow_y": null,
      "padding": null,
      "right": null,
      "top": null,
      "visibility": null,
      "width": null
     }
    },
    "35c3d8ab5a494e9a8018a69be84f0f20": {
     "model_module": "@jupyter-widgets/controls",
     "model_module_version": "1.5.0",
     "model_name": "HTMLModel",
     "state": {
      "_dom_classes": [],
      "_model_module": "@jupyter-widgets/controls",
      "_model_module_version": "1.5.0",
      "_model_name": "HTMLModel",
      "_view_count": null,
      "_view_module": "@jupyter-widgets/controls",
      "_view_module_version": "1.5.0",
      "_view_name": "HTMLView",
      "description": "",
      "description_tooltip": null,
      "layout": "IPY_MODEL_2c35d315b71c4674824da011abe2fc8c",
      "placeholder": "​",
      "style": "IPY_MODEL_f1b4780c0d16460a8873761d3bf9b1f2",
      "value": "Downloading: 100%"
     }
    },
    "37798771c7df4a6288e06d4105017204": {
     "model_module": "@jupyter-widgets/controls",
     "model_module_version": "1.5.0",
     "model_name": "FloatProgressModel",
     "state": {
      "_dom_classes": [],
      "_model_module": "@jupyter-widgets/controls",
      "_model_module_version": "1.5.0",
      "_model_name": "FloatProgressModel",
      "_view_count": null,
      "_view_module": "@jupyter-widgets/controls",
      "_view_module_version": "1.5.0",
      "_view_name": "ProgressView",
      "bar_style": "success",
      "description": "",
      "description_tooltip": null,
      "layout": "IPY_MODEL_046f4ce35d7047309a4659ae81e6abae",
      "max": 26,
      "min": 0,
      "orientation": "horizontal",
      "style": "IPY_MODEL_f8165c1b630144bb85927ca2a3971aa6",
      "value": 26
     }
    },
    "3818a6341bd64636b8b9af0c8090bca8": {
     "model_module": "@jupyter-widgets/base",
     "model_module_version": "1.2.0",
     "model_name": "LayoutModel",
     "state": {
      "_model_module": "@jupyter-widgets/base",
      "_model_module_version": "1.2.0",
      "_model_name": "LayoutModel",
      "_view_count": null,
      "_view_module": "@jupyter-widgets/base",
      "_view_module_version": "1.2.0",
      "_view_name": "LayoutView",
      "align_content": null,
      "align_items": null,
      "align_self": null,
      "border": null,
      "bottom": null,
      "display": null,
      "flex": null,
      "flex_flow": null,
      "grid_area": null,
      "grid_auto_columns": null,
      "grid_auto_flow": null,
      "grid_auto_rows": null,
      "grid_column": null,
      "grid_gap": null,
      "grid_row": null,
      "grid_template_areas": null,
      "grid_template_columns": null,
      "grid_template_rows": null,
      "height": null,
      "justify_content": null,
      "justify_items": null,
      "left": null,
      "margin": null,
      "max_height": null,
      "max_width": null,
      "min_height": null,
      "min_width": null,
      "object_fit": null,
      "object_position": null,
      "order": null,
      "overflow": null,
      "overflow_x": null,
      "overflow_y": null,
      "padding": null,
      "right": null,
      "top": null,
      "visibility": null,
      "width": null
     }
    },
    "3a1d6b7355834ee7a3801ceae2a38b5e": {
     "model_module": "@jupyter-widgets/controls",
     "model_module_version": "1.5.0",
     "model_name": "DescriptionStyleModel",
     "state": {
      "_model_module": "@jupyter-widgets/controls",
      "_model_module_version": "1.5.0",
      "_model_name": "DescriptionStyleModel",
      "_view_count": null,
      "_view_module": "@jupyter-widgets/base",
      "_view_module_version": "1.2.0",
      "_view_name": "StyleView",
      "description_width": ""
     }
    },
    "3c6ccd18a27044feb4ea479c81c33542": {
     "model_module": "@jupyter-widgets/controls",
     "model_module_version": "1.5.0",
     "model_name": "DescriptionStyleModel",
     "state": {
      "_model_module": "@jupyter-widgets/controls",
      "_model_module_version": "1.5.0",
      "_model_name": "DescriptionStyleModel",
      "_view_count": null,
      "_view_module": "@jupyter-widgets/base",
      "_view_module_version": "1.2.0",
      "_view_name": "StyleView",
      "description_width": ""
     }
    },
    "5a2170a332c04769b19661508dd4f2ab": {
     "model_module": "@jupyter-widgets/base",
     "model_module_version": "1.2.0",
     "model_name": "LayoutModel",
     "state": {
      "_model_module": "@jupyter-widgets/base",
      "_model_module_version": "1.2.0",
      "_model_name": "LayoutModel",
      "_view_count": null,
      "_view_module": "@jupyter-widgets/base",
      "_view_module_version": "1.2.0",
      "_view_name": "LayoutView",
      "align_content": null,
      "align_items": null,
      "align_self": null,
      "border": null,
      "bottom": null,
      "display": null,
      "flex": null,
      "flex_flow": null,
      "grid_area": null,
      "grid_auto_columns": null,
      "grid_auto_flow": null,
      "grid_auto_rows": null,
      "grid_column": null,
      "grid_gap": null,
      "grid_row": null,
      "grid_template_areas": null,
      "grid_template_columns": null,
      "grid_template_rows": null,
      "height": null,
      "justify_content": null,
      "justify_items": null,
      "left": null,
      "margin": null,
      "max_height": null,
      "max_width": null,
      "min_height": null,
      "min_width": null,
      "object_fit": null,
      "object_position": null,
      "order": null,
      "overflow": null,
      "overflow_x": null,
      "overflow_y": null,
      "padding": null,
      "right": null,
      "top": null,
      "visibility": null,
      "width": null
     }
    },
    "5b3ea2d37ec245e69048df2fa324e8a1": {
     "model_module": "@jupyter-widgets/controls",
     "model_module_version": "1.5.0",
     "model_name": "HTMLModel",
     "state": {
      "_dom_classes": [],
      "_model_module": "@jupyter-widgets/controls",
      "_model_module_version": "1.5.0",
      "_model_name": "HTMLModel",
      "_view_count": null,
      "_view_module": "@jupyter-widgets/controls",
      "_view_module_version": "1.5.0",
      "_view_name": "HTMLView",
      "description": "",
      "description_tooltip": null,
      "layout": "IPY_MODEL_5a2170a332c04769b19661508dd4f2ab",
      "placeholder": "​",
      "style": "IPY_MODEL_1b62430a77444050bd8a34a6ff113ab1",
      "value": "Downloading: 100%"
     }
    },
    "5cfbf5124d99475685bcaf5803c602a1": {
     "model_module": "@jupyter-widgets/controls",
     "model_module_version": "1.5.0",
     "model_name": "ProgressStyleModel",
     "state": {
      "_model_module": "@jupyter-widgets/controls",
      "_model_module_version": "1.5.0",
      "_model_name": "ProgressStyleModel",
      "_view_count": null,
      "_view_module": "@jupyter-widgets/base",
      "_view_module_version": "1.2.0",
      "_view_name": "StyleView",
      "bar_color": null,
      "description_width": ""
     }
    },
    "5e8ba43d58dd4a67a7aad2450dd0b98a": {
     "model_module": "@jupyter-widgets/controls",
     "model_module_version": "1.5.0",
     "model_name": "DescriptionStyleModel",
     "state": {
      "_model_module": "@jupyter-widgets/controls",
      "_model_module_version": "1.5.0",
      "_model_name": "DescriptionStyleModel",
      "_view_count": null,
      "_view_module": "@jupyter-widgets/base",
      "_view_module_version": "1.2.0",
      "_view_name": "StyleView",
      "description_width": ""
     }
    },
    "65709e27e680456680409c1f302ab588": {
     "model_module": "@jupyter-widgets/controls",
     "model_module_version": "1.5.0",
     "model_name": "HTMLModel",
     "state": {
      "_dom_classes": [],
      "_model_module": "@jupyter-widgets/controls",
      "_model_module_version": "1.5.0",
      "_model_name": "HTMLModel",
      "_view_count": null,
      "_view_module": "@jupyter-widgets/controls",
      "_view_module_version": "1.5.0",
      "_view_name": "HTMLView",
      "description": "",
      "description_tooltip": null,
      "layout": "IPY_MODEL_aa74270682044f11a52120966a3b5e72",
      "placeholder": "​",
      "style": "IPY_MODEL_3c6ccd18a27044feb4ea479c81c33542",
      "value": " 665/665 [00:00&lt;00:00, 5.79kB/s]"
     }
    },
    "66c927b4f3a74e988bb6d5de91f7baed": {
     "model_module": "@jupyter-widgets/controls",
     "model_module_version": "1.5.0",
     "model_name": "DescriptionStyleModel",
     "state": {
      "_model_module": "@jupyter-widgets/controls",
      "_model_module_version": "1.5.0",
      "_model_name": "DescriptionStyleModel",
      "_view_count": null,
      "_view_module": "@jupyter-widgets/base",
      "_view_module_version": "1.2.0",
      "_view_name": "StyleView",
      "description_width": ""
     }
    },
    "754930c73f3841f790879276a046b969": {
     "model_module": "@jupyter-widgets/base",
     "model_module_version": "1.2.0",
     "model_name": "LayoutModel",
     "state": {
      "_model_module": "@jupyter-widgets/base",
      "_model_module_version": "1.2.0",
      "_model_name": "LayoutModel",
      "_view_count": null,
      "_view_module": "@jupyter-widgets/base",
      "_view_module_version": "1.2.0",
      "_view_name": "LayoutView",
      "align_content": null,
      "align_items": null,
      "align_self": null,
      "border": null,
      "bottom": null,
      "display": null,
      "flex": null,
      "flex_flow": null,
      "grid_area": null,
      "grid_auto_columns": null,
      "grid_auto_flow": null,
      "grid_auto_rows": null,
      "grid_column": null,
      "grid_gap": null,
      "grid_row": null,
      "grid_template_areas": null,
      "grid_template_columns": null,
      "grid_template_rows": null,
      "height": null,
      "justify_content": null,
      "justify_items": null,
      "left": null,
      "margin": null,
      "max_height": null,
      "max_width": null,
      "min_height": null,
      "min_width": null,
      "object_fit": null,
      "object_position": null,
      "order": null,
      "overflow": null,
      "overflow_x": null,
      "overflow_y": null,
      "padding": null,
      "right": null,
      "top": null,
      "visibility": null,
      "width": null
     }
    },
    "77677770b1544309bb1894731872ab0b": {
     "model_module": "@jupyter-widgets/controls",
     "model_module_version": "1.5.0",
     "model_name": "HTMLModel",
     "state": {
      "_dom_classes": [],
      "_model_module": "@jupyter-widgets/controls",
      "_model_module_version": "1.5.0",
      "_model_name": "HTMLModel",
      "_view_count": null,
      "_view_module": "@jupyter-widgets/controls",
      "_view_module_version": "1.5.0",
      "_view_name": "HTMLView",
      "description": "",
      "description_tooltip": null,
      "layout": "IPY_MODEL_af3e570e62aa4a6ba36c4dbe2616a3c0",
      "placeholder": "​",
      "style": "IPY_MODEL_d98835ccd6274a949b705c486b1a05a5",
      "value": " 26.0/26.0 [00:00&lt;00:00, 365B/s]"
     }
    },
    "7d3d413be5394d41956ebabc490abcd8": {
     "model_module": "@jupyter-widgets/base",
     "model_module_version": "1.2.0",
     "model_name": "LayoutModel",
     "state": {
      "_model_module": "@jupyter-widgets/base",
      "_model_module_version": "1.2.0",
      "_model_name": "LayoutModel",
      "_view_count": null,
      "_view_module": "@jupyter-widgets/base",
      "_view_module_version": "1.2.0",
      "_view_name": "LayoutView",
      "align_content": null,
      "align_items": null,
      "align_self": null,
      "border": null,
      "bottom": null,
      "display": null,
      "flex": null,
      "flex_flow": null,
      "grid_area": null,
      "grid_auto_columns": null,
      "grid_auto_flow": null,
      "grid_auto_rows": null,
      "grid_column": null,
      "grid_gap": null,
      "grid_row": null,
      "grid_template_areas": null,
      "grid_template_columns": null,
      "grid_template_rows": null,
      "height": null,
      "justify_content": null,
      "justify_items": null,
      "left": null,
      "margin": null,
      "max_height": null,
      "max_width": null,
      "min_height": null,
      "min_width": null,
      "object_fit": null,
      "object_position": null,
      "order": null,
      "overflow": null,
      "overflow_x": null,
      "overflow_y": null,
      "padding": null,
      "right": null,
      "top": null,
      "visibility": null,
      "width": null
     }
    },
    "7e64afb66fc1495bbc87c3a61c1a0976": {
     "model_module": "@jupyter-widgets/base",
     "model_module_version": "1.2.0",
     "model_name": "LayoutModel",
     "state": {
      "_model_module": "@jupyter-widgets/base",
      "_model_module_version": "1.2.0",
      "_model_name": "LayoutModel",
      "_view_count": null,
      "_view_module": "@jupyter-widgets/base",
      "_view_module_version": "1.2.0",
      "_view_name": "LayoutView",
      "align_content": null,
      "align_items": null,
      "align_self": null,
      "border": null,
      "bottom": null,
      "display": null,
      "flex": null,
      "flex_flow": null,
      "grid_area": null,
      "grid_auto_columns": null,
      "grid_auto_flow": null,
      "grid_auto_rows": null,
      "grid_column": null,
      "grid_gap": null,
      "grid_row": null,
      "grid_template_areas": null,
      "grid_template_columns": null,
      "grid_template_rows": null,
      "height": null,
      "justify_content": null,
      "justify_items": null,
      "left": null,
      "margin": null,
      "max_height": null,
      "max_width": null,
      "min_height": null,
      "min_width": null,
      "object_fit": null,
      "object_position": null,
      "order": null,
      "overflow": null,
      "overflow_x": null,
      "overflow_y": null,
      "padding": null,
      "right": null,
      "top": null,
      "visibility": null,
      "width": null
     }
    },
    "7f5a1bbabcab488586f6d5a33e340594": {
     "model_module": "@jupyter-widgets/controls",
     "model_module_version": "1.5.0",
     "model_name": "FloatProgressModel",
     "state": {
      "_dom_classes": [],
      "_model_module": "@jupyter-widgets/controls",
      "_model_module_version": "1.5.0",
      "_model_name": "FloatProgressModel",
      "_view_count": null,
      "_view_module": "@jupyter-widgets/controls",
      "_view_module_version": "1.5.0",
      "_view_name": "ProgressView",
      "bar_style": "success",
      "description": "",
      "description_tooltip": null,
      "layout": "IPY_MODEL_93e32784913443f2949b7320ad5279e5",
      "max": 456318,
      "min": 0,
      "orientation": "horizontal",
      "style": "IPY_MODEL_8528959a403b460aaa7d66d3eaa9eda1",
      "value": 456318
     }
    },
    "80cfe1475323485298e7e96bb49b024b": {
     "model_module": "@jupyter-widgets/controls",
     "model_module_version": "1.5.0",
     "model_name": "HTMLModel",
     "state": {
      "_dom_classes": [],
      "_model_module": "@jupyter-widgets/controls",
      "_model_module_version": "1.5.0",
      "_model_name": "HTMLModel",
      "_view_count": null,
      "_view_module": "@jupyter-widgets/controls",
      "_view_module_version": "1.5.0",
      "_view_name": "HTMLView",
      "description": "",
      "description_tooltip": null,
      "layout": "IPY_MODEL_beacc992b2dd41fea0f36ec64946715e",
      "placeholder": "​",
      "style": "IPY_MODEL_d7fa001367864a73a1432d849a6d2c65",
      "value": " 0.99M/0.99M [00:00&lt;00:00, 2.47MB/s]"
     }
    },
    "8368989a6afa40a186c00da905c0cdc5": {
     "model_module": "@jupyter-widgets/base",
     "model_module_version": "1.2.0",
     "model_name": "LayoutModel",
     "state": {
      "_model_module": "@jupyter-widgets/base",
      "_model_module_version": "1.2.0",
      "_model_name": "LayoutModel",
      "_view_count": null,
      "_view_module": "@jupyter-widgets/base",
      "_view_module_version": "1.2.0",
      "_view_name": "LayoutView",
      "align_content": null,
      "align_items": null,
      "align_self": null,
      "border": null,
      "bottom": null,
      "display": null,
      "flex": null,
      "flex_flow": null,
      "grid_area": null,
      "grid_auto_columns": null,
      "grid_auto_flow": null,
      "grid_auto_rows": null,
      "grid_column": null,
      "grid_gap": null,
      "grid_row": null,
      "grid_template_areas": null,
      "grid_template_columns": null,
      "grid_template_rows": null,
      "height": null,
      "justify_content": null,
      "justify_items": null,
      "left": null,
      "margin": null,
      "max_height": null,
      "max_width": null,
      "min_height": null,
      "min_width": null,
      "object_fit": null,
      "object_position": null,
      "order": null,
      "overflow": null,
      "overflow_x": null,
      "overflow_y": null,
      "padding": null,
      "right": null,
      "top": null,
      "visibility": null,
      "width": null
     }
    },
    "843fdd33ff8e4847b6012e4a64c0b31d": {
     "model_module": "@jupyter-widgets/base",
     "model_module_version": "1.2.0",
     "model_name": "LayoutModel",
     "state": {
      "_model_module": "@jupyter-widgets/base",
      "_model_module_version": "1.2.0",
      "_model_name": "LayoutModel",
      "_view_count": null,
      "_view_module": "@jupyter-widgets/base",
      "_view_module_version": "1.2.0",
      "_view_name": "LayoutView",
      "align_content": null,
      "align_items": null,
      "align_self": null,
      "border": null,
      "bottom": null,
      "display": null,
      "flex": null,
      "flex_flow": null,
      "grid_area": null,
      "grid_auto_columns": null,
      "grid_auto_flow": null,
      "grid_auto_rows": null,
      "grid_column": null,
      "grid_gap": null,
      "grid_row": null,
      "grid_template_areas": null,
      "grid_template_columns": null,
      "grid_template_rows": null,
      "height": null,
      "justify_content": null,
      "justify_items": null,
      "left": null,
      "margin": null,
      "max_height": null,
      "max_width": null,
      "min_height": null,
      "min_width": null,
      "object_fit": null,
      "object_position": null,
      "order": null,
      "overflow": null,
      "overflow_x": null,
      "overflow_y": null,
      "padding": null,
      "right": null,
      "top": null,
      "visibility": null,
      "width": null
     }
    },
    "84b9b902526f4de587203342f701de95": {
     "model_module": "@jupyter-widgets/controls",
     "model_module_version": "1.5.0",
     "model_name": "DescriptionStyleModel",
     "state": {
      "_model_module": "@jupyter-widgets/controls",
      "_model_module_version": "1.5.0",
      "_model_name": "DescriptionStyleModel",
      "_view_count": null,
      "_view_module": "@jupyter-widgets/base",
      "_view_module_version": "1.2.0",
      "_view_name": "StyleView",
      "description_width": ""
     }
    },
    "8528959a403b460aaa7d66d3eaa9eda1": {
     "model_module": "@jupyter-widgets/controls",
     "model_module_version": "1.5.0",
     "model_name": "ProgressStyleModel",
     "state": {
      "_model_module": "@jupyter-widgets/controls",
      "_model_module_version": "1.5.0",
      "_model_name": "ProgressStyleModel",
      "_view_count": null,
      "_view_module": "@jupyter-widgets/base",
      "_view_module_version": "1.2.0",
      "_view_name": "StyleView",
      "bar_color": null,
      "description_width": ""
     }
    },
    "92f0f4aed9314aa88d3ed916dfb6730e": {
     "model_module": "@jupyter-widgets/controls",
     "model_module_version": "1.5.0",
     "model_name": "FloatProgressModel",
     "state": {
      "_dom_classes": [],
      "_model_module": "@jupyter-widgets/controls",
      "_model_module_version": "1.5.0",
      "_model_name": "FloatProgressModel",
      "_view_count": null,
      "_view_module": "@jupyter-widgets/controls",
      "_view_module_version": "1.5.0",
      "_view_name": "ProgressView",
      "bar_style": "success",
      "description": "",
      "description_tooltip": null,
      "layout": "IPY_MODEL_aece83b907f743bb8e38dcad82a72dbf",
      "max": 1042301,
      "min": 0,
      "orientation": "horizontal",
      "style": "IPY_MODEL_cff196d9322b4b1a8b3e7d382b4e9d7d",
      "value": 1042301
     }
    },
    "93e32784913443f2949b7320ad5279e5": {
     "model_module": "@jupyter-widgets/base",
     "model_module_version": "1.2.0",
     "model_name": "LayoutModel",
     "state": {
      "_model_module": "@jupyter-widgets/base",
      "_model_module_version": "1.2.0",
      "_model_name": "LayoutModel",
      "_view_count": null,
      "_view_module": "@jupyter-widgets/base",
      "_view_module_version": "1.2.0",
      "_view_name": "LayoutView",
      "align_content": null,
      "align_items": null,
      "align_self": null,
      "border": null,
      "bottom": null,
      "display": null,
      "flex": null,
      "flex_flow": null,
      "grid_area": null,
      "grid_auto_columns": null,
      "grid_auto_flow": null,
      "grid_auto_rows": null,
      "grid_column": null,
      "grid_gap": null,
      "grid_row": null,
      "grid_template_areas": null,
      "grid_template_columns": null,
      "grid_template_rows": null,
      "height": null,
      "justify_content": null,
      "justify_items": null,
      "left": null,
      "margin": null,
      "max_height": null,
      "max_width": null,
      "min_height": null,
      "min_width": null,
      "object_fit": null,
      "object_position": null,
      "order": null,
      "overflow": null,
      "overflow_x": null,
      "overflow_y": null,
      "padding": null,
      "right": null,
      "top": null,
      "visibility": null,
      "width": null
     }
    },
    "95e04030f73a41afa1a006fdb4c2ac7f": {
     "model_module": "@jupyter-widgets/controls",
     "model_module_version": "1.5.0",
     "model_name": "HBoxModel",
     "state": {
      "_dom_classes": [],
      "_model_module": "@jupyter-widgets/controls",
      "_model_module_version": "1.5.0",
      "_model_name": "HBoxModel",
      "_view_count": null,
      "_view_module": "@jupyter-widgets/controls",
      "_view_module_version": "1.5.0",
      "_view_name": "HBoxView",
      "box_style": "",
      "children": [
       "IPY_MODEL_1e50ba7b632c402e896dacda1cd7bfb3",
       "IPY_MODEL_05d3f036c7ba45fd9be9b6f692370d16",
       "IPY_MODEL_65709e27e680456680409c1f302ab588"
      ],
      "layout": "IPY_MODEL_8368989a6afa40a186c00da905c0cdc5"
     }
    },
    "969a96dd84234b84a4585de1f859c3d2": {
     "model_module": "@jupyter-widgets/controls",
     "model_module_version": "1.5.0",
     "model_name": "HBoxModel",
     "state": {
      "_dom_classes": [],
      "_model_module": "@jupyter-widgets/controls",
      "_model_module_version": "1.5.0",
      "_model_name": "HBoxModel",
      "_view_count": null,
      "_view_module": "@jupyter-widgets/controls",
      "_view_module_version": "1.5.0",
      "_view_name": "HBoxView",
      "box_style": "",
      "children": [
       "IPY_MODEL_5b3ea2d37ec245e69048df2fa324e8a1",
       "IPY_MODEL_7f5a1bbabcab488586f6d5a33e340594",
       "IPY_MODEL_bd879de01fb347f0a7646db2773ed99c"
      ],
      "layout": "IPY_MODEL_3818a6341bd64636b8b9af0c8090bca8"
     }
    },
    "9e187c7da5774de783285d0e9e8026f0": {
     "model_module": "@jupyter-widgets/base",
     "model_module_version": "1.2.0",
     "model_name": "LayoutModel",
     "state": {
      "_model_module": "@jupyter-widgets/base",
      "_model_module_version": "1.2.0",
      "_model_name": "LayoutModel",
      "_view_count": null,
      "_view_module": "@jupyter-widgets/base",
      "_view_module_version": "1.2.0",
      "_view_name": "LayoutView",
      "align_content": null,
      "align_items": null,
      "align_self": null,
      "border": null,
      "bottom": null,
      "display": null,
      "flex": null,
      "flex_flow": null,
      "grid_area": null,
      "grid_auto_columns": null,
      "grid_auto_flow": null,
      "grid_auto_rows": null,
      "grid_column": null,
      "grid_gap": null,
      "grid_row": null,
      "grid_template_areas": null,
      "grid_template_columns": null,
      "grid_template_rows": null,
      "height": null,
      "justify_content": null,
      "justify_items": null,
      "left": null,
      "margin": null,
      "max_height": null,
      "max_width": null,
      "min_height": null,
      "min_width": null,
      "object_fit": null,
      "object_position": null,
      "order": null,
      "overflow": null,
      "overflow_x": null,
      "overflow_y": null,
      "padding": null,
      "right": null,
      "top": null,
      "visibility": null,
      "width": null
     }
    },
    "a03214cdcb844eaeaa639b5fc8e05dc0": {
     "model_module": "@jupyter-widgets/base",
     "model_module_version": "1.2.0",
     "model_name": "LayoutModel",
     "state": {
      "_model_module": "@jupyter-widgets/base",
      "_model_module_version": "1.2.0",
      "_model_name": "LayoutModel",
      "_view_count": null,
      "_view_module": "@jupyter-widgets/base",
      "_view_module_version": "1.2.0",
      "_view_name": "LayoutView",
      "align_content": null,
      "align_items": null,
      "align_self": null,
      "border": null,
      "bottom": null,
      "display": null,
      "flex": null,
      "flex_flow": null,
      "grid_area": null,
      "grid_auto_columns": null,
      "grid_auto_flow": null,
      "grid_auto_rows": null,
      "grid_column": null,
      "grid_gap": null,
      "grid_row": null,
      "grid_template_areas": null,
      "grid_template_columns": null,
      "grid_template_rows": null,
      "height": null,
      "justify_content": null,
      "justify_items": null,
      "left": null,
      "margin": null,
      "max_height": null,
      "max_width": null,
      "min_height": null,
      "min_width": null,
      "object_fit": null,
      "object_position": null,
      "order": null,
      "overflow": null,
      "overflow_x": null,
      "overflow_y": null,
      "padding": null,
      "right": null,
      "top": null,
      "visibility": null,
      "width": null
     }
    },
    "aa0456a8e0694bf89cf32fecec2db5ea": {
     "model_module": "@jupyter-widgets/controls",
     "model_module_version": "1.5.0",
     "model_name": "HTMLModel",
     "state": {
      "_dom_classes": [],
      "_model_module": "@jupyter-widgets/controls",
      "_model_module_version": "1.5.0",
      "_model_name": "HTMLModel",
      "_view_count": null,
      "_view_module": "@jupyter-widgets/controls",
      "_view_module_version": "1.5.0",
      "_view_name": "HTMLView",
      "description": "",
      "description_tooltip": null,
      "layout": "IPY_MODEL_a03214cdcb844eaeaa639b5fc8e05dc0",
      "placeholder": "​",
      "style": "IPY_MODEL_5e8ba43d58dd4a67a7aad2450dd0b98a",
      "value": " 523M/523M [00:13&lt;00:00, 70.2MB/s]"
     }
    },
    "aa74270682044f11a52120966a3b5e72": {
     "model_module": "@jupyter-widgets/base",
     "model_module_version": "1.2.0",
     "model_name": "LayoutModel",
     "state": {
      "_model_module": "@jupyter-widgets/base",
      "_model_module_version": "1.2.0",
      "_model_name": "LayoutModel",
      "_view_count": null,
      "_view_module": "@jupyter-widgets/base",
      "_view_module_version": "1.2.0",
      "_view_name": "LayoutView",
      "align_content": null,
      "align_items": null,
      "align_self": null,
      "border": null,
      "bottom": null,
      "display": null,
      "flex": null,
      "flex_flow": null,
      "grid_area": null,
      "grid_auto_columns": null,
      "grid_auto_flow": null,
      "grid_auto_rows": null,
      "grid_column": null,
      "grid_gap": null,
      "grid_row": null,
      "grid_template_areas": null,
      "grid_template_columns": null,
      "grid_template_rows": null,
      "height": null,
      "justify_content": null,
      "justify_items": null,
      "left": null,
      "margin": null,
      "max_height": null,
      "max_width": null,
      "min_height": null,
      "min_width": null,
      "object_fit": null,
      "object_position": null,
      "order": null,
      "overflow": null,
      "overflow_x": null,
      "overflow_y": null,
      "padding": null,
      "right": null,
      "top": null,
      "visibility": null,
      "width": null
     }
    },
    "aece83b907f743bb8e38dcad82a72dbf": {
     "model_module": "@jupyter-widgets/base",
     "model_module_version": "1.2.0",
     "model_name": "LayoutModel",
     "state": {
      "_model_module": "@jupyter-widgets/base",
      "_model_module_version": "1.2.0",
      "_model_name": "LayoutModel",
      "_view_count": null,
      "_view_module": "@jupyter-widgets/base",
      "_view_module_version": "1.2.0",
      "_view_name": "LayoutView",
      "align_content": null,
      "align_items": null,
      "align_self": null,
      "border": null,
      "bottom": null,
      "display": null,
      "flex": null,
      "flex_flow": null,
      "grid_area": null,
      "grid_auto_columns": null,
      "grid_auto_flow": null,
      "grid_auto_rows": null,
      "grid_column": null,
      "grid_gap": null,
      "grid_row": null,
      "grid_template_areas": null,
      "grid_template_columns": null,
      "grid_template_rows": null,
      "height": null,
      "justify_content": null,
      "justify_items": null,
      "left": null,
      "margin": null,
      "max_height": null,
      "max_width": null,
      "min_height": null,
      "min_width": null,
      "object_fit": null,
      "object_position": null,
      "order": null,
      "overflow": null,
      "overflow_x": null,
      "overflow_y": null,
      "padding": null,
      "right": null,
      "top": null,
      "visibility": null,
      "width": null
     }
    },
    "af3e570e62aa4a6ba36c4dbe2616a3c0": {
     "model_module": "@jupyter-widgets/base",
     "model_module_version": "1.2.0",
     "model_name": "LayoutModel",
     "state": {
      "_model_module": "@jupyter-widgets/base",
      "_model_module_version": "1.2.0",
      "_model_name": "LayoutModel",
      "_view_count": null,
      "_view_module": "@jupyter-widgets/base",
      "_view_module_version": "1.2.0",
      "_view_name": "LayoutView",
      "align_content": null,
      "align_items": null,
      "align_self": null,
      "border": null,
      "bottom": null,
      "display": null,
      "flex": null,
      "flex_flow": null,
      "grid_area": null,
      "grid_auto_columns": null,
      "grid_auto_flow": null,
      "grid_auto_rows": null,
      "grid_column": null,
      "grid_gap": null,
      "grid_row": null,
      "grid_template_areas": null,
      "grid_template_columns": null,
      "grid_template_rows": null,
      "height": null,
      "justify_content": null,
      "justify_items": null,
      "left": null,
      "margin": null,
      "max_height": null,
      "max_width": null,
      "min_height": null,
      "min_width": null,
      "object_fit": null,
      "object_position": null,
      "order": null,
      "overflow": null,
      "overflow_x": null,
      "overflow_y": null,
      "padding": null,
      "right": null,
      "top": null,
      "visibility": null,
      "width": null
     }
    },
    "b62e7ab801304b799340c8f214258df3": {
     "model_module": "@jupyter-widgets/controls",
     "model_module_version": "1.5.0",
     "model_name": "HBoxModel",
     "state": {
      "_dom_classes": [],
      "_model_module": "@jupyter-widgets/controls",
      "_model_module_version": "1.5.0",
      "_model_name": "HBoxModel",
      "_view_count": null,
      "_view_module": "@jupyter-widgets/controls",
      "_view_module_version": "1.5.0",
      "_view_name": "HBoxView",
      "box_style": "",
      "children": [
       "IPY_MODEL_2916155dc9b94f618c95b36a4aa6c514",
       "IPY_MODEL_de8c35931af8486bbb48ebf7f3e76a95",
       "IPY_MODEL_aa0456a8e0694bf89cf32fecec2db5ea"
      ],
      "layout": "IPY_MODEL_7d3d413be5394d41956ebabc490abcd8"
     }
    },
    "bb2686846331408aa04b6ef330bcac31": {
     "model_module": "@jupyter-widgets/controls",
     "model_module_version": "1.5.0",
     "model_name": "HTMLModel",
     "state": {
      "_dom_classes": [],
      "_model_module": "@jupyter-widgets/controls",
      "_model_module_version": "1.5.0",
      "_model_name": "HTMLModel",
      "_view_count": null,
      "_view_module": "@jupyter-widgets/controls",
      "_view_module_version": "1.5.0",
      "_view_name": "HTMLView",
      "description": "",
      "description_tooltip": null,
      "layout": "IPY_MODEL_eb69595fcea04228843066db3037aeeb",
      "placeholder": "​",
      "style": "IPY_MODEL_84b9b902526f4de587203342f701de95",
      "value": "Downloading: 100%"
     }
    },
    "bd879de01fb347f0a7646db2773ed99c": {
     "model_module": "@jupyter-widgets/controls",
     "model_module_version": "1.5.0",
     "model_name": "HTMLModel",
     "state": {
      "_dom_classes": [],
      "_model_module": "@jupyter-widgets/controls",
      "_model_module_version": "1.5.0",
      "_model_name": "HTMLModel",
      "_view_count": null,
      "_view_module": "@jupyter-widgets/controls",
      "_view_module_version": "1.5.0",
      "_view_name": "HTMLView",
      "description": "",
      "description_tooltip": null,
      "layout": "IPY_MODEL_7e64afb66fc1495bbc87c3a61c1a0976",
      "placeholder": "​",
      "style": "IPY_MODEL_0f92195effe34ea88df8650aee0eb479",
      "value": " 446k/446k [00:00&lt;00:00, 3.31MB/s]"
     }
    },
    "beacc992b2dd41fea0f36ec64946715e": {
     "model_module": "@jupyter-widgets/base",
     "model_module_version": "1.2.0",
     "model_name": "LayoutModel",
     "state": {
      "_model_module": "@jupyter-widgets/base",
      "_model_module_version": "1.2.0",
      "_model_name": "LayoutModel",
      "_view_count": null,
      "_view_module": "@jupyter-widgets/base",
      "_view_module_version": "1.2.0",
      "_view_name": "LayoutView",
      "align_content": null,
      "align_items": null,
      "align_self": null,
      "border": null,
      "bottom": null,
      "display": null,
      "flex": null,
      "flex_flow": null,
      "grid_area": null,
      "grid_auto_columns": null,
      "grid_auto_flow": null,
      "grid_auto_rows": null,
      "grid_column": null,
      "grid_gap": null,
      "grid_row": null,
      "grid_template_areas": null,
      "grid_template_columns": null,
      "grid_template_rows": null,
      "height": null,
      "justify_content": null,
      "justify_items": null,
      "left": null,
      "margin": null,
      "max_height": null,
      "max_width": null,
      "min_height": null,
      "min_width": null,
      "object_fit": null,
      "object_position": null,
      "order": null,
      "overflow": null,
      "overflow_x": null,
      "overflow_y": null,
      "padding": null,
      "right": null,
      "top": null,
      "visibility": null,
      "width": null
     }
    },
    "ca4938b7d4e542d0a2d4f51662f933dd": {
     "model_module": "@jupyter-widgets/base",
     "model_module_version": "1.2.0",
     "model_name": "LayoutModel",
     "state": {
      "_model_module": "@jupyter-widgets/base",
      "_model_module_version": "1.2.0",
      "_model_name": "LayoutModel",
      "_view_count": null,
      "_view_module": "@jupyter-widgets/base",
      "_view_module_version": "1.2.0",
      "_view_name": "LayoutView",
      "align_content": null,
      "align_items": null,
      "align_self": null,
      "border": null,
      "bottom": null,
      "display": null,
      "flex": null,
      "flex_flow": null,
      "grid_area": null,
      "grid_auto_columns": null,
      "grid_auto_flow": null,
      "grid_auto_rows": null,
      "grid_column": null,
      "grid_gap": null,
      "grid_row": null,
      "grid_template_areas": null,
      "grid_template_columns": null,
      "grid_template_rows": null,
      "height": null,
      "justify_content": null,
      "justify_items": null,
      "left": null,
      "margin": null,
      "max_height": null,
      "max_width": null,
      "min_height": null,
      "min_width": null,
      "object_fit": null,
      "object_position": null,
      "order": null,
      "overflow": null,
      "overflow_x": null,
      "overflow_y": null,
      "padding": null,
      "right": null,
      "top": null,
      "visibility": null,
      "width": null
     }
    },
    "cff196d9322b4b1a8b3e7d382b4e9d7d": {
     "model_module": "@jupyter-widgets/controls",
     "model_module_version": "1.5.0",
     "model_name": "ProgressStyleModel",
     "state": {
      "_model_module": "@jupyter-widgets/controls",
      "_model_module_version": "1.5.0",
      "_model_name": "ProgressStyleModel",
      "_view_count": null,
      "_view_module": "@jupyter-widgets/base",
      "_view_module_version": "1.2.0",
      "_view_name": "StyleView",
      "bar_color": null,
      "description_width": ""
     }
    },
    "d7fa001367864a73a1432d849a6d2c65": {
     "model_module": "@jupyter-widgets/controls",
     "model_module_version": "1.5.0",
     "model_name": "DescriptionStyleModel",
     "state": {
      "_model_module": "@jupyter-widgets/controls",
      "_model_module_version": "1.5.0",
      "_model_name": "DescriptionStyleModel",
      "_view_count": null,
      "_view_module": "@jupyter-widgets/base",
      "_view_module_version": "1.2.0",
      "_view_name": "StyleView",
      "description_width": ""
     }
    },
    "d98835ccd6274a949b705c486b1a05a5": {
     "model_module": "@jupyter-widgets/controls",
     "model_module_version": "1.5.0",
     "model_name": "DescriptionStyleModel",
     "state": {
      "_model_module": "@jupyter-widgets/controls",
      "_model_module_version": "1.5.0",
      "_model_name": "DescriptionStyleModel",
      "_view_count": null,
      "_view_module": "@jupyter-widgets/base",
      "_view_module_version": "1.2.0",
      "_view_name": "StyleView",
      "description_width": ""
     }
    },
    "de8c35931af8486bbb48ebf7f3e76a95": {
     "model_module": "@jupyter-widgets/controls",
     "model_module_version": "1.5.0",
     "model_name": "FloatProgressModel",
     "state": {
      "_dom_classes": [],
      "_model_module": "@jupyter-widgets/controls",
      "_model_module_version": "1.5.0",
      "_model_name": "FloatProgressModel",
      "_view_count": null,
      "_view_module": "@jupyter-widgets/controls",
      "_view_module_version": "1.5.0",
      "_view_name": "ProgressView",
      "bar_style": "success",
      "description": "",
      "description_tooltip": null,
      "layout": "IPY_MODEL_ca4938b7d4e542d0a2d4f51662f933dd",
      "max": 548118077,
      "min": 0,
      "orientation": "horizontal",
      "style": "IPY_MODEL_100170ddcca9437385dc33f7a6cbf919",
      "value": 548118077
     }
    },
    "e526367e7df54bd6804d2b16040ab5f0": {
     "model_module": "@jupyter-widgets/controls",
     "model_module_version": "1.5.0",
     "model_name": "HBoxModel",
     "state": {
      "_dom_classes": [],
      "_model_module": "@jupyter-widgets/controls",
      "_model_module_version": "1.5.0",
      "_model_name": "HBoxModel",
      "_view_count": null,
      "_view_module": "@jupyter-widgets/controls",
      "_view_module_version": "1.5.0",
      "_view_name": "HBoxView",
      "box_style": "",
      "children": [
       "IPY_MODEL_35c3d8ab5a494e9a8018a69be84f0f20",
       "IPY_MODEL_37798771c7df4a6288e06d4105017204",
       "IPY_MODEL_77677770b1544309bb1894731872ab0b"
      ],
      "layout": "IPY_MODEL_27877f40c8cf48b1bb26775d723ddeff"
     }
    },
    "eb69595fcea04228843066db3037aeeb": {
     "model_module": "@jupyter-widgets/base",
     "model_module_version": "1.2.0",
     "model_name": "LayoutModel",
     "state": {
      "_model_module": "@jupyter-widgets/base",
      "_model_module_version": "1.2.0",
      "_model_name": "LayoutModel",
      "_view_count": null,
      "_view_module": "@jupyter-widgets/base",
      "_view_module_version": "1.2.0",
      "_view_name": "LayoutView",
      "align_content": null,
      "align_items": null,
      "align_self": null,
      "border": null,
      "bottom": null,
      "display": null,
      "flex": null,
      "flex_flow": null,
      "grid_area": null,
      "grid_auto_columns": null,
      "grid_auto_flow": null,
      "grid_auto_rows": null,
      "grid_column": null,
      "grid_gap": null,
      "grid_row": null,
      "grid_template_areas": null,
      "grid_template_columns": null,
      "grid_template_rows": null,
      "height": null,
      "justify_content": null,
      "justify_items": null,
      "left": null,
      "margin": null,
      "max_height": null,
      "max_width": null,
      "min_height": null,
      "min_width": null,
      "object_fit": null,
      "object_position": null,
      "order": null,
      "overflow": null,
      "overflow_x": null,
      "overflow_y": null,
      "padding": null,
      "right": null,
      "top": null,
      "visibility": null,
      "width": null
     }
    },
    "f1b4780c0d16460a8873761d3bf9b1f2": {
     "model_module": "@jupyter-widgets/controls",
     "model_module_version": "1.5.0",
     "model_name": "DescriptionStyleModel",
     "state": {
      "_model_module": "@jupyter-widgets/controls",
      "_model_module_version": "1.5.0",
      "_model_name": "DescriptionStyleModel",
      "_view_count": null,
      "_view_module": "@jupyter-widgets/base",
      "_view_module_version": "1.2.0",
      "_view_name": "StyleView",
      "description_width": ""
     }
    },
    "f8165c1b630144bb85927ca2a3971aa6": {
     "model_module": "@jupyter-widgets/controls",
     "model_module_version": "1.5.0",
     "model_name": "ProgressStyleModel",
     "state": {
      "_model_module": "@jupyter-widgets/controls",
      "_model_module_version": "1.5.0",
      "_model_name": "ProgressStyleModel",
      "_view_count": null,
      "_view_module": "@jupyter-widgets/base",
      "_view_module_version": "1.2.0",
      "_view_name": "StyleView",
      "bar_color": null,
      "description_width": ""
     }
    },
    "fdbede6577734ae28c0dbb7b9302083b": {
     "model_module": "@jupyter-widgets/base",
     "model_module_version": "1.2.0",
     "model_name": "LayoutModel",
     "state": {
      "_model_module": "@jupyter-widgets/base",
      "_model_module_version": "1.2.0",
      "_model_name": "LayoutModel",
      "_view_count": null,
      "_view_module": "@jupyter-widgets/base",
      "_view_module_version": "1.2.0",
      "_view_name": "LayoutView",
      "align_content": null,
      "align_items": null,
      "align_self": null,
      "border": null,
      "bottom": null,
      "display": null,
      "flex": null,
      "flex_flow": null,
      "grid_area": null,
      "grid_auto_columns": null,
      "grid_auto_flow": null,
      "grid_auto_rows": null,
      "grid_column": null,
      "grid_gap": null,
      "grid_row": null,
      "grid_template_areas": null,
      "grid_template_columns": null,
      "grid_template_rows": null,
      "height": null,
      "justify_content": null,
      "justify_items": null,
      "left": null,
      "margin": null,
      "max_height": null,
      "max_width": null,
      "min_height": null,
      "min_width": null,
      "object_fit": null,
      "object_position": null,
      "order": null,
      "overflow": null,
      "overflow_x": null,
      "overflow_y": null,
      "padding": null,
      "right": null,
      "top": null,
      "visibility": null,
      "width": null
     }
    }
   }
  }
 },
 "nbformat": 4,
 "nbformat_minor": 1
}
